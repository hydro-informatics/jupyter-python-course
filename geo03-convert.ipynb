{
 "cells": [
  {
   "cell_type": "markdown",
   "metadata": {},
   "source": [
    "# Vectorize and Raster\n",
    "\n",
    "This section introduces geospatial dataset conversion with Python. In particular, the goal of this section is to guide to an understanding of conversions from raster to vector data formats and vice versa.\n",
    "\n",
    "> **Requirements:** \n",
    "> * Make sure to understand [handling of gridded raster data](https://hydro-informatics.com/jupyter/geo-raster.html) and [shapefile handling](https://hydro-informatics.com/jupyter/geo-shp.html)\n",
    "> * Understand the creation of the [least cost path](https://hydro-informatics.com/jupyter/geo-raster.html#leastcost) raster dataset.\n",
    "\n",
    "> **Tips:**\n",
    "> * The functions featured in this section are introduced are partially also implemented in [flusstools](https://flusstools.readthedocs.io/).\n",
    "> * To use those functions, make sure flusstools is installed and import it as follows: `from flusstools import geotools`. Some of the functions shown in this tutorial can then be used with `geotools.function_name()`.\n",
    "\n",
    "## Vectorize\n",
    "\n",
    "### Raster to Line\n",
    "\n",
    "In this section, we convert the [least cost path](https://hydro-informatics.com/jupyter/geo-raster.html#leastcost) raster dataset (*least_cost.tif*) into a (poly) line shapefile. For this purpose, we first write a function called `offset2coords()`, which represents the inverse of the [`coords2offset()`](https://hydro-informatics.com/jupyter/geo-raster.html#lc-fun) function, and converts x/y offset (in *integer* pixel numbers) to coordinates of a geospatial dataset's geo-transformation:"
   ]
  },
  {
   "cell_type": "code",
   "execution_count": null,
   "metadata": {},
   "outputs": [],
   "source": [
    "def offset2coords(geo_transform, offset_x, offset_y):\n",
    "    # get origin and pixel dimensions from geo_transform (osgeo.gdal.Dataset.GetGeoTransform() object)\n",
    "    origin_x = geo_transform[0]\n",
    "    origin_y = geo_transform[3]\n",
    "    pixel_width = geo_transform[1]\n",
    "    pixel_height = geo_transform[5]\n",
    "    \n",
    "    # calculate x and y coordinates\n",
    "    coord_x = origin_x + pixel_width * (offset_x + 0.5)\n",
    "    coord_y = origin_y + pixel_height * (offset_y + 0.5)\n",
    "\n",
    "    # return x and y coordinates\n",
    "    return coord_x, coord_y"
   ]
  },
  {
   "cell_type": "markdown",
   "metadata": {},
   "source": [
    "> **Note:** The offset is added 0.5 pixels in both x and y directions to meet the center of the pixel rather than the top-left pixel corner."
   ]
  },
  {
   "cell_type": "markdown",
   "metadata": {},
   "source": [
    "Next, we can write a core function to convert a raster dataset to a line shapefile. We name this function `raster2line()` and it builds on the following workflow:\n",
    "\n",
    "* Open a `raster`, its band as `array`, and `geo_transform` (geo-transformation) defined with the `raster_file_name` argument in the [`open_raster`](https://hydro-informatics.com/jupyter/geo-raster.html#open-raster) function from the raster section.\n",
    "* Calculate the maximum distance (`max_distance`) between two pixels that are considered being *connect-able*, based on the hypothesis that the pixel height *&Delta;y* and width *&Delta;x* are the same:\n",
    "    ![img](https://raw.githubusercontent.com/sschwindt/hydroinformatics/main/docs/img/pixel2line-width-illu.png)\n",
    "* Get the `trajectory` of pixels that have a user parameter-defined `pixel_value` (e.g., `1` to trace 1-pixels in the binary *least_cost.tif*) and throw an error if the trajectory is empty (i.e., `np.count_nonzero(trajectory) is 0`). \n",
    "* Use the above-defined `offset2coords` function to append point coordinates to a `points` list.\n",
    "* Create a `multi_line` object (instance of `ogr.Geometry(ogr.wkbMultiLineString)`), which represents the (void) final least cost path.\n",
    "* Iterate through all possible combinations of points (excluding combinations of points with themselves) with [`itertools.combinations(iterable, r=number-of-combinations=2`](https://docs.python.org/3/library/itertools.html)).\n",
    "\n",
    "    - Points are stored in the `points` list.\n",
    "    - `point1` and `point2` are required to get the distance between pairs of points.\n",
    "    - If the `distance` between the points is smaller than `max_distance`, the function creates a line object from the two points and appends it to the `multi_line` object.\n",
    "\n",
    "* Create a new shapefile (named `out_shp_fn`) using the [`create_shp()`](https://hydro-informatics.com/jupyter/geo-shp.html#create-shp) function (with integrated shapefile name length verification from flusstools `geotools.create_shp()`).\n",
    "* Add the `multi_line` object as a new feature to the shapefile (according to the descriptions in the [shapefile section](https://hydro-informatics.com/jupyter/geo-shp.html#line-create)).\n",
    "* Create a `.prj` projection file (recall descriptions in the [shapefile section](https://hydro-informatics.com/jupyter/geo-shp.html#prj-shp)) using the spatial reference system of the input `raster` with the [`get_srs()`](https://hydro-informatics.com/jupyter/geo-raster.html#lc-fun) function.\n",
    "\n",
    "The `raster2line` function is also implemented in the [`flusstools.geotools.geotools`](https://raw.githubusercontent.com/Ecohydraulics/flusstools-pckg/main/flusstools/geotools/geotools.py) script."
   ]
  },
  {
   "cell_type": "code",
   "execution_count": null,
   "metadata": {},
   "outputs": [],
   "source": [
    "def raster2line(raster_file_name, out_shp_fn, pixel_value):\n",
    "    \"\"\"\n",
    "    Convert a raster to a line shapefile, where pixel_value determines line start and end points\n",
    "    :param raster_file_name: STR of input raster file name, including directory; must end on \".tif\"\n",
    "    :param out_shp_fn: STR of target shapefile name, including directory; must end on \".shp\"\n",
    "    :param pixel_value: INT/FLOAT of a pixel value\n",
    "    :return: None (writes new shapefile).\n",
    "    \"\"\"\n",
    "\n",
    "    # calculate max. distance between points\n",
    "    # ensures correct neighbourhoods for start and end pts of lines\n",
    "    raster, array, geo_transform = raster2array(raster_file_name)\n",
    "    pixel_width = geo_transform[1]\n",
    "    max_distance = np.ceil(np.sqrt(2 * pixel_width**2))\n",
    "\n",
    "    # extract pixels with the user-defined pixel value from the raster array\n",
    "    trajectory = np.where(array == pixel_value)\n",
    "    if np.count_nonzero(trajectory) is 0:\n",
    "        print(\"ERROR: The defined pixel_value (%s) does not occur in the raster band.\" % str(pixel_value))\n",
    "        return None\n",
    "\n",
    "    # convert pixel offset to coordinates and append to nested list of points\n",
    "    points = []\n",
    "    count = 0\n",
    "    for offset_y in trajectory[0]:\n",
    "        offset_x = trajectory[1][count]\n",
    "        points.append(offset2coords(geo_transform, offset_x, offset_y))\n",
    "        count += 1\n",
    "\n",
    "    # create multiline (write points dictionary to line geometry (wkbMultiLineString)\n",
    "    multi_line = ogr.Geometry(ogr.wkbMultiLineString)\n",
    "    for i in itertools.combinations(points, 2):\n",
    "        point1 = ogr.Geometry(ogr.wkbPoint)\n",
    "        point1.AddPoint(i[0][0], i[0][1])\n",
    "        point2 = ogr.Geometry(ogr.wkbPoint)\n",
    "        point2.AddPoint(i[1][0], i[1][1])\n",
    "\n",
    "        distance = point1.Distance(point2)\n",
    "        if distance < max_distance:\n",
    "            line = ogr.Geometry(ogr.wkbLineString)\n",
    "            line.AddPoint(i[0][0], i[0][1])\n",
    "            line.AddPoint(i[1][0], i[1][1])\n",
    "            multi_line.AddGeometry(line)\n",
    "\n",
    "    # write multiline (wkbMultiLineString2shp) to shapefile\n",
    "    new_shp = create_shp(out_shp_fn, layer_name=\"raster_pts\", layer_type=\"line\")\n",
    "    lyr = new_shp.GetLayer()\n",
    "    feature_def = lyr.GetLayerDefn()\n",
    "    new_line_feat = ogr.Feature(feature_def)\n",
    "    new_line_feat.SetGeometry(multi_line)\n",
    "    lyr.CreateFeature(new_line_feat)\n",
    "\n",
    "    # create projection file\n",
    "    srs = get_srs(raster)\n",
    "    make_prj(out_shp_fn, int(srs.GetAuthorityCode(None)))\n",
    "    print(\"Success: Wrote %s\" % str(out_shp_fn))"
   ]
  },
  {
   "cell_type": "markdown",
   "metadata": {},
   "source": [
    "The `raster2line()` function can be called as follows to convert the least cost path from pixel (raster) to line (vector) format:"
   ]
  },
  {
   "cell_type": "code",
   "execution_count": null,
   "metadata": {},
   "outputs": [],
   "source": [
    "source_raster_fn = r\"\" +  os.path.abspath('') + \"/geodata/river-architect/least_cost.tif\"\n",
    "target_shp_fn = r\"\" + os.path.abspath('') + \"/geodata/river-architect/least_cost.shp\"\n",
    "pixel_value = 1\n",
    "raster2line(source_raster_fn, target_shp_fn, pixel_value)"
   ]
  },
  {
   "cell_type": "markdown",
   "metadata": {},
   "source": [
    "![img](https://raw.githubusercontent.com/sschwindt/hydroinformatics/main/docs/img/qgis-least-cost-line.png)"
   ]
  },
  {
   "cell_type": "markdown",
   "metadata": {},
   "source": [
    "> **Challenge:** There is a small error in the `least_cost` line. Can you find the error? What can be done to fix the error?"
   ]
  },
  {
   "cell_type": "markdown",
   "metadata": {},
   "source": [
    "> **Note:** Network routing is the functional core of the [`NetworkX` library (see *Open source libraries*)](https://hydro-informatics.com/geopy/geo-pckg.html#other-geo-pckgs). Read more about network analyses on [Michael Diener's GitHub pages](https://github.com/mdiener21/python-geospatial-analysis-cookbook/tree/master/ch08)."
   ]
  },
  {
   "cell_type": "markdown",
   "metadata": {},
   "source": [
    "### Raster to Polygon\n",
    "\n",
    "`gdal` comes with the powerful `Polygonize` feature for the easy conversion of a raster dataset to a polygon shapefile. While `gdal.Polygonize` enables writing a simple `raster2polygon()` Python function, it has the drawback that it can only handle integer values and it merely randomly attributes `FID` (automatically attributed identifiers without physical meaning) values by default. Because the `FID` values are not meaningful, we will create a `float2int()` function to preserve the original value range (uses the [`raster2array()`](https://hydro-informatics.com/jupyter/geo-raster.html#createarray) and [`create_raster()`](https://hydro-informatics.com/jupyter/geo-raster.html#create-raster) functions from the raster section):"
   ]
  },
  {
   "cell_type": "code",
   "execution_count": null,
   "metadata": {},
   "outputs": [],
   "source": [
    "def float2int(raster_file_name, band_number=1):\n",
    "    \"\"\"\n",
    "    :param raster_file_name: STR of target file name, including directory; must end on \".tif\"\n",
    "    :param band_number: INT of the raster band number to open (default: 1)\n",
    "    :output: new_raster_file_name (STR)\n",
    "    \"\"\"\n",
    "    # use raster2array function to get raster, np.array and the geo transformation\n",
    "    raster, array, geo_transform = raster2array(raster_file_name, band_number=band_number)\n",
    "    \n",
    "    # convert np.array to integers\n",
    "    try:\n",
    "        array = array.astype(int)\n",
    "    except ValueError:\n",
    "        print(\"ERROR: Invalid raster pixel values.\")\n",
    "        return raster_file_name\n",
    "    \n",
    "    # get spatial reference system\n",
    "    src_srs = get_srs(raster)\n",
    "    \n",
    "    # create integer raster    \n",
    "    new_name = raster_file_name.split(\".tif\")[0] + \"_int.tif\"\n",
    "    create_raster(new_name, array, epsg=int(src_srs.GetAuthorityCode(None)),\n",
    "                  rdtype=gdal.GDT_Int32, geo_info=geo_transform)\n",
    "    # return name of integer raster\n",
    "    return new_name"
   ]
  },
  {
   "cell_type": "markdown",
   "metadata": {},
   "source": [
    "Next, we will create the `raster2polygon()` function that implements the following workflow:\n",
    "\n",
    "1. Use the `float2int()` function to ensure that any raster `file_name` provided can be converted to purely integer values.\n",
    "1. Create a new shapefile (named `out_shp_fn`) using the [`create_shp()`](https://hydro-informatics.com/jupyter/geo-shp.html#create-shp) function (also available from flusstools: `geotools.create_shp()`).\n",
    "1. Add a new `ogr.OFTInteger` field (recall [how field creation works](https://hydro-informatics.com/jupyter/geo-shp.html#add-field)) in the shapefile section) named by the optional `field_name` input argument.\n",
    "1. Run [`gdal.Polygonize`](https://gdal.org/api/gdal_alg.html#_CPPv414GDALPolygonize15GDALRasterBandH15GDALRasterBandH9OGRLayerHiPPc16GDALProgressFuncPv) with:\n",
    "\n",
    "    * `hSrcBand=raster_band`\n",
    "    * `hMaskBand=None` (optional raster band to define polygons)\n",
    "    * `hOutLayer=dst_layer`\n",
    "    * `iPixValField=0` (if no field was added, set to `-1` in order to create an `FID` field; if more fields were added, set to `1`, `2`, ... )\n",
    "    * `papszOptions=[]` (no effect for `ESRI Shapefile` driver type)\n",
    "    * `callback=None` for not using the reporting algorithm (`GDALProgressFunc()`)\n",
    "\n",
    "1. Create a `.prj` projection file (recall descriptions in the [shapefile section](https://hydro-informatics.com/jupyter/geo-shp.html#prj-shp)) using the spatial reference system of the input `raster` with the [`get_srs()`](https://hydro-informatics.com/jupyter/geo-raster.html#lc-fun) function.   "
   ]
  },
  {
   "cell_type": "code",
   "execution_count": null,
   "metadata": {},
   "outputs": [],
   "source": [
    "def raster2polygon(file_name, out_shp_fn, band_number=1, field_name=\"values\"):\n",
    "    \"\"\"\n",
    "    Convert a raster to polygon\n",
    "    :param file_name: STR of target file name, including directory; must end on \".tif\"\n",
    "    :param out_shp_fn: STR of a shapefile name (with directory e.g., \"C:/temp/poly.shp\")\n",
    "    :param band_number: INT of the raster band number to open (default: 1)\n",
    "    :param field_name: STR of the field where raster pixel values will be stored (default: \"values\")\n",
    "    :return: None\n",
    "    \"\"\"\n",
    "    # ensure that the input raster contains integer values only and open the input raster\n",
    "    file_name = float2int(file_name)\n",
    "    raster, raster_band = open_raster(file_name, band_number=band_number)\n",
    "\n",
    "    # create new shapefile with the create_shp function\n",
    "    new_shp = create_shp(out_shp_fn, layer_name=\"raster_data\", layer_type=\"polygon\")\n",
    "    dst_layer = new_shp.GetLayer()\n",
    "\n",
    "    # create new field to define values\n",
    "    new_field = ogr.FieldDefn(field_name, ogr.OFTInteger)\n",
    "    dst_layer.CreateField(new_field)\n",
    "\n",
    "    # Polygonize(band, hMaskBand[optional]=None, destination lyr, field ID, papszOptions=[], callback=None)\n",
    "    gdal.Polygonize(raster_band, None, dst_layer, 0, [], callback=None)\n",
    "\n",
    "    # create projection file\n",
    "    srs = get_srs(raster)\n",
    "    make_prj(out_shp_fn, int(srs.GetAuthorityCode(None)))\n",
    "    print(\"Success: Wrote %s\" % str(out_shp_fn))"
   ]
  },
  {
   "cell_type": "markdown",
   "metadata": {},
   "source": [
    "> **Note:**\n",
    "> * `Polygonize` can also be run from [terminal/Anaconda prompt](https://hydro-informatics.com/jupyter/geo-raster.html#terminal) by typing [`gdal_polygonize`](https://gdal.org/programs/gdal_polygonize.html).\n",
    "> * Both the `float2int()` and the `raster2polygon()` functions are also available in flusstools with `geotools.float2int()` and `geotools.raster2polygon() respectively ([have a look at the geotools.py script](https://raw.githubusercontent.com/Ecohydraulics/flusstools-pckg/main/flusstools/geotools/geotools.py))."
   ]
  },
  {
   "cell_type": "markdown",
   "metadata": {},
   "source": [
    "The `raster2polygon()` function can be implemented, for example, to convert the water depth raster for 1000 CFS (*h001000.tif* from the [*River Architect* sample datasets](https://github.com/RiverArchitect/SampleData/tree/master/01_Conditions/2100_sample)) to a polygon shapefile:"
   ]
  },
  {
   "cell_type": "code",
   "execution_count": null,
   "metadata": {},
   "outputs": [],
   "source": [
    "src_raster = r\"\" +  os.path.abspath(\"\") + \"/geodata/rasters/h001000.tif\"\n",
    "tar_shp = r\"\" + os.path.abspath(\"\") + \"/geodata/shapefiles/h_poly_cls.shp\"\n",
    "raster2polygon(src_raster, tar_shp)"
   ]
  },
  {
   "cell_type": "markdown",
   "metadata": {},
   "source": [
    "![img](https://raw.githubusercontent.com/sschwindt/hydroinformatics/main/docs/img/qgis-h-polygonized.png)"
   ]
  },
  {
   "cell_type": "markdown",
   "metadata": {},
   "source": [
    "## Rasterize (Vector Shapefile to Raster) \n",
    "\n",
    "Similar to `gdal.Polygonize`, [`gdal.RasterizeLayer`](https://gdal.org/python/osgeo.gdal-module.html#RasterizeLayer) represents a handy option to convert a shapefile into a raster. However, to be precise, a shapefile is not really converted into a raster but burned onto a raster. Tus, values stored in a field of a shapefile feature are used (burned) as pixel values for creating a new raster. Attention is required to ensure that the correct values and data types are used. To this end, the below shown `rasterize()` function implements the following workflow that avoids potential conversion headaches:\n",
    "\n",
    "1. Open the user-provided input shapefile name and layer.\n",
    "1. Read the spatial extent of the layer.\n",
    "1. Derive the x-y resolution as a function of the spatial extent and a user-defined `pixel_size` (optional keyword argument with default value).\n",
    "1. Create a new GeoTIFF raster using the\n",
    "    * user-defined `output_raster_file_name`,\n",
    "    * calculated x and y resolution, and\n",
    "    * `eType` (default is `gdal.GDT_Float32` - recall all data type options listed in the [raster section](https://hydro-informatics.com/jupyter/geo-raster.html#etypes).\n",
    "1. Apply the geotransformation defined by the source layer extents and the `pixel_size`.\n",
    "1. Create one raster `band`, fill the `band` with the user-defined `no_data_value` (default is `-9999`), and set the `no_data_value`.\n",
    "1. Set the spatial reference system of the raster to the same as the source shapefile.\n",
    "1. Apply `gdal.RasterizeLayer` with \n",
    "    * `dataset=target_ds` (target raster dataset),\n",
    "    * `bands=[1]` (*list(integer)* - increase to defined more raster bands and assign other values, for example, from other fields of the source shapefile),\n",
    "    * `layer=source_lyr` (layer with features to burn to the raster),\n",
    "    * `pfnTransformer=None` ([read more in the gdal docs](https://gdal.org/python/osgeo.gdal-module.html#RasterizeLayer)),\n",
    "    * `pTransformArg=None` ([read more in the gdal docs](https://gdal.org/python/osgeo.gdal-module.html#RasterizeLayer)),\n",
    "    * `burn_values=[0]` (a default value that is burned to the raster),\n",
    "    * `options=[\"ALL_TOUCHED=TRUE\"]` defines that all pixels touched by a polygon get the polygon's field value - if not set: only pixels that are entirely in the polygon get a value assigned,\n",
    "    * `options=[\"ATTRIBUTE=\" + str(kwargs.get(\"field_name\"))]` defines the field name with values to burn."
   ]
  },
  {
   "cell_type": "code",
   "execution_count": null,
   "metadata": {},
   "outputs": [],
   "source": [
    "def rasterize(in_shp_file_name, out_raster_file_name, pixel_size=10, no_data_value=-9999,\n",
    "              rdtype=gdal.GDT_Float32, **kwargs):\n",
    "    \"\"\"\n",
    "    Converts any shapefile to a raster\n",
    "    :param in_shp_file_name: STR of a shapefile name (with directory e.g., \"C:/temp/poly.shp\")\n",
    "    :param out_raster_file_name: STR of target file name, including directory; must end on \".tif\"\n",
    "    :param pixel_size: INT of pixel size (default: 10)\n",
    "    :param no_data_value: Numeric (INT/FLOAT) for no-data pixels (default: -9999)\n",
    "    :param rdtype: gdal.GDALDataType raster data type - default=gdal.GDT_Float32 (32 bit floating point)\n",
    "    :kwarg field_name: name of the shapefile's field with values to burn to the raster\n",
    "    :return: produces the shapefile defined with in_shp_file_name\n",
    "    \"\"\"\n",
    "\n",
    "    # open data source\n",
    "    try:\n",
    "        source_ds = ogr.Open(in_shp_file_name)\n",
    "    except RuntimeError as e:\n",
    "        print(\"Error: Could not open %s.\" % str(in_shp_file_name))\n",
    "        return None\n",
    "    source_lyr = source_ds.GetLayer()\n",
    "\n",
    "    # read extent\n",
    "    x_min, x_max, y_min, y_max = source_lyr.GetExtent()\n",
    "\n",
    "    # get x and y resolution\n",
    "    x_res = int((x_max - x_min) / pixel_size)\n",
    "    y_res = int((y_max - y_min) / pixel_size)\n",
    "\n",
    "    # create destination data source (GeoTIff raster)\n",
    "    target_ds = gdal.GetDriverByName('GTiff').Create(out_raster_file_name, x_res, y_res, 1, eType=rdtype)\n",
    "    target_ds.SetGeoTransform((x_min, pixel_size, 0, y_max, 0, -pixel_size))\n",
    "    band = target_ds.GetRasterBand(1)\n",
    "    band.Fill(no_data_value)\n",
    "    band.SetNoDataValue(no_data_value)\n",
    "\n",
    "    # get spatial reference system and assign to raster\n",
    "    srs = get_srs(source_ds)\n",
    "    try:\n",
    "        srs.ImportFromEPSG(int(srs.GetAuthorityCode(None)))\n",
    "    except RuntimeError as e:\n",
    "        print(e)\n",
    "        return None\n",
    "    target_ds.SetProjection(srs.ExportToWkt())\n",
    "\n",
    "    # RasterizeLayer(Dataset dataset, int bands, Layer layer, pfnTransformer=None, pTransformArg=None,\n",
    "    # int burn_values=0, options=None, GDALProgressFunc callback=0, callback_data=None)\n",
    "    gdal.RasterizeLayer(target_ds, [1], source_lyr, None, None, burn_values=[0],\n",
    "                                options=[\"ALL_TOUCHED=TRUE\", \"ATTRIBUTE=\" + str(kwargs.get(\"field_name\"))])\n",
    "\n",
    "    # release raster band\n",
    "    band.FlushCache()"
   ]
  },
  {
   "cell_type": "markdown",
   "metadata": {},
   "source": [
    "> **Tip:** `Rasterize` can also be run from [terminal/Anaconda prompt](https://hydro-informatics.com/jupyter/geo-raster.html#terminal) with [`gdal_rasterize`](https://gdal.org/programs/gdal_rasterize.html)."
   ]
  },
  {
   "cell_type": "markdown",
   "metadata": {},
   "source": [
    "Finally, the `rasterize()` function can be called to convert the polygonized water depth polygon shapefile (*/geodata/shapefiles/h_poly_cls.shp*) back to a raster (this is practically useless but an illustrative exercise). Pay attention to the data type, which is `gdal.GDT_Int32` in combination with the correctly defined `field_name` argument."
   ]
  },
  {
   "cell_type": "code",
   "execution_count": null,
   "metadata": {},
   "outputs": [],
   "source": [
    "src_shp = r\"\" + os.path.abspath(\"\") + \"/geodata/shapefiles/h_poly_cls.shp\"\n",
    "tar_ras = r\"\" +  os.path.abspath(\"\") + \"/geodata/rasters/h_re_rastered.tif\"\n",
    "rasterize(src_shp, tar_ras, pixel_size=5, rdtype=gdal.GDT_Int32, field_name=\"values\")"
   ]
  },
  {
   "cell_type": "markdown",
   "metadata": {},
   "source": [
    "![img](https://raw.githubusercontent.com/sschwindt/hydroinformatics/main/docs/img/qgis-h-rasterized.png)"
   ]
  },
  {
   "cell_type": "markdown",
   "metadata": {},
   "source": [
    "> **Exercise:** Familiarize with he conversion of rasters and shapefiles in the [geospatial ecohydraulics](https://hydro-informatics.com/exercises/ex-geco) exercise."
   ]
  }
 ],
 "metadata": {
  "kernelspec": {
   "display_name": "Python 3 (ipykernel)",
   "language": "python",
   "name": "python3"
  },
  "language_info": {
   "codemirror_mode": {
    "name": "ipython",
    "version": 3
   },
   "file_extension": ".py",
   "mimetype": "text/x-python",
   "name": "python",
   "nbconvert_exporter": "python",
   "pygments_lexer": "ipython3",
   "version": "3.8.10"
  }
 },
 "nbformat": 4,
 "nbformat_minor": 4
}
