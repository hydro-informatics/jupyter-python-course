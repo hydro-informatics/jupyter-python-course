{
 "cells": [
  {
   "cell_type": "markdown",
   "metadata": {},
   "source": [
    "## Import data set"
   ]
  },
  {
   "cell_type": "code",
   "execution_count": 31,
   "metadata": {},
   "outputs": [
    {
     "name": "stdout",
     "output_type": "stream",
     "text": [
      "PREDICTORS (X) \n",
      "\n",
      "   alcohol  malic_acid   ash  alcalinity_of_ash  magnesium  total_phenols  \\\n",
      "0    14.23        1.71  2.43               15.6      127.0           2.80   \n",
      "1    13.20        1.78  2.14               11.2      100.0           2.65   \n",
      "2    13.16        2.36  2.67               18.6      101.0           2.80   \n",
      "3    14.37        1.95  2.50               16.8      113.0           3.85   \n",
      "4    13.24        2.59  2.87               21.0      118.0           2.80   \n",
      "\n",
      "   flavanoids  nonflavanoid_phenols  proanthocyanins  color_intensity   hue  \\\n",
      "0        3.06                  0.28             2.29             5.64  1.04   \n",
      "1        2.76                  0.26             1.28             4.38  1.05   \n",
      "2        3.24                  0.30             2.81             5.68  1.03   \n",
      "3        3.49                  0.24             2.18             7.80  0.86   \n",
      "4        2.69                  0.39             1.82             4.32  1.04   \n",
      "\n",
      "   od280/od315_of_diluted_wines  proline  \n",
      "0                          3.92   1065.0  \n",
      "1                          3.40   1050.0  \n",
      "2                          3.17   1185.0  \n",
      "3                          3.45   1480.0  \n",
      "4                          2.93    735.0  \n",
      "Number of predictors: 13\n",
      "Number of samples: 178\n",
      "--------------------------------------------------------\n",
      "\n",
      "TARGET CLASSES (Y)  \n",
      "\n",
      "0    0\n",
      "1    0\n",
      "2    0\n",
      "3    0\n",
      "4    0\n",
      "Name: target, dtype: int32 \n",
      "\n",
      "----------------------------------------------------------\n",
      "Wine Classes: [0 1 2] -->> [0: bad wine, 1: goof wine, 2:excellent wine]\n"
     ]
    }
   ],
   "source": [
    "import pandas as pd\n",
    "import matplotlib.pyplot as plt\n",
    "from sklearn.datasets import load_wine # example dataset for wine classification\n",
    "from sklearn.model_selection import train_test_split # function to split testing and training datasets\n",
    "from sklearn.svm import SVC # class Support Vector Machine\n",
    "from sklearn.model_selection import validation_curve # function too stract error through validation\n",
    "from sklearn.metrics import plot_confusion_matrix #function to plot confution matrix\n",
    "\n",
    "\n",
    "data = load_wine(as_frame=True, # return only data as tuple (parametrs, target)\n",
    "                 return_X_y=True # return as pandas dataframe\n",
    "                )\n",
    "df_wine_predictors = data[0]\n",
    "df_wine_target = data[1]\n",
    "\n",
    "\n",
    "# Visualize \n",
    "print(\"PREDICTORS (X) \\n\")\n",
    "print(df_wine_predictors.head())\n",
    "print(\"Number of predictors:\", df_wine_predictors.shape[1])\n",
    "print(\"Number of samples:\", df_wine_predictors.shape[0])\n",
    "print(\"--------------------------------------------------------\\n\")\n",
    "\n",
    "print(\"TARGET CLASSES (Y)  \\n\")\n",
    "print(df_wine_target.head(),\"\\n\") \n",
    "print(\"----------------------------------------------------------\")\n",
    "print(\"Wine Classes: {} -->> [0: bad wine, 1: goof wine, 2:excellent wine]\".format(df_wine_target.unique()))\n"
   ]
  },
  {
   "cell_type": "markdown",
   "metadata": {},
   "source": [
    "## Check the data"
   ]
  },
  {
   "cell_type": "code",
   "execution_count": 33,
   "metadata": {},
   "outputs": [
    {
     "name": "stdout",
     "output_type": "stream",
     "text": [
      "Verify the type of data within the columns:\n",
      "\n",
      "alcohol                         float64\n",
      "malic_acid                      float64\n",
      "ash                             float64\n",
      "alcalinity_of_ash               float64\n",
      "magnesium                       float64\n",
      "total_phenols                   float64\n",
      "flavanoids                      float64\n",
      "nonflavanoid_phenols            float64\n",
      "proanthocyanins                 float64\n",
      "color_intensity                 float64\n",
      "hue                             float64\n",
      "od280/od315_of_diluted_wines    float64\n",
      "proline                         float64\n",
      "dtype: object \n",
      "\n",
      "----------------------------------------\n",
      "Check for NaN under the columns:\n",
      "\n",
      "alcohol : False\n",
      "malic_acid : False\n",
      "ash : False\n",
      "alcalinity_of_ash : False\n",
      "magnesium : False\n",
      "total_phenols : False\n",
      "flavanoids : False\n",
      "nonflavanoid_phenols : False\n",
      "proanthocyanins : False\n",
      "color_intensity : False\n",
      "hue : False\n",
      "od280/od315_of_diluted_wines : False\n",
      "proline : False\n"
     ]
    }
   ],
   "source": [
    "# Basic check for errors in the dataset\n",
    "print(\"Verify the type of data within the columns:\\n\")\n",
    "print(df_wine_predictors.dtypes,\"\\n\")\n",
    "df_wine_predictors.columns.to_list()\n",
    "\n",
    "print(\"----------------------------------------\")\n",
    " \n",
    "print(\"Check for NaN under the columns:\\n\")\n",
    "for column in df_wine_predictors.columns.to_list():\n",
    "    print(column,\":\",df_wine_predictors[column].isnull().any())"
   ]
  },
  {
   "cell_type": "markdown",
   "metadata": {},
   "source": [
    "# Split training and testing sets"
   ]
  },
  {
   "cell_type": "code",
   "execution_count": 35,
   "metadata": {},
   "outputs": [
    {
     "name": "stdout",
     "output_type": "stream",
     "text": [
      "TRAINING DATASET PREDICTORS\n",
      "     alcohol  malic_acid   ash  alcalinity_of_ash  magnesium  total_phenols  \\\n",
      "22     13.71        1.86  2.36               16.6      101.0           2.61   \n",
      "146    13.88        5.04  2.23               20.0       80.0           0.98   \n",
      "97     12.29        1.41  1.98               16.0       85.0           2.55   \n",
      "69     12.21        1.19  1.75               16.8      151.0           1.85   \n",
      "167    12.82        3.37  2.30               19.5       88.0           1.48   \n",
      "\n",
      "     flavanoids  nonflavanoid_phenols  proanthocyanins  color_intensity   hue  \\\n",
      "22         2.88                  0.27             1.69             3.80  1.11   \n",
      "146        0.34                  0.40             0.68             4.90  0.58   \n",
      "97         2.50                  0.29             1.77             2.90  1.23   \n",
      "69         1.28                  0.14             2.50             2.85  1.28   \n",
      "167        0.66                  0.40             0.97            10.26  0.72   \n",
      "\n",
      "     od280/od315_of_diluted_wines  proline  \n",
      "22                           4.00   1035.0  \n",
      "146                          1.33    415.0  \n",
      "97                           2.74    428.0  \n",
      "69                           3.07    718.0  \n",
      "167                          1.75    685.0   \n",
      "\n",
      "dataframe size (119, 13) \n",
      "\n",
      "------------------------------------------\n",
      "TRAINING DATASET TARGET\n",
      "22     0\n",
      "146    2\n",
      "97     1\n",
      "69     1\n",
      "167    2\n",
      "      ..\n",
      "71     1\n",
      "106    1\n",
      "14     0\n",
      "92     1\n",
      "102    1\n",
      "Name: target, Length: 119, dtype: int32 \n",
      "\n",
      "\n",
      "------------------------------------------------------------------------------------\n",
      "\n",
      "TESTING DATASET PREDICTORS\n",
      "     alcohol  malic_acid   ash  alcalinity_of_ash  magnesium  total_phenols  \\\n",
      "19     13.64        3.10  2.56               15.2      116.0           2.70   \n",
      "45     14.21        4.04  2.44               18.9      111.0           2.85   \n",
      "140    12.93        2.81  2.70               21.0       96.0           1.54   \n",
      "30     13.73        1.50  2.70               22.5      101.0           3.00   \n",
      "67     12.37        1.17  1.92               19.6       78.0           2.11   \n",
      "\n",
      "     flavanoids  nonflavanoid_phenols  proanthocyanins  color_intensity   hue  \\\n",
      "19         3.03                  0.17             1.66             5.10  0.96   \n",
      "45         2.65                  0.30             1.25             5.24  0.87   \n",
      "140        0.50                  0.53             0.75             4.60  0.77   \n",
      "30         3.25                  0.29             2.38             5.70  1.19   \n",
      "67         2.00                  0.27             1.04             4.68  1.12   \n",
      "\n",
      "     od280/od315_of_diluted_wines  proline  \n",
      "19                           3.36    845.0  \n",
      "45                           3.33   1080.0  \n",
      "140                          2.31    600.0  \n",
      "30                           2.71   1285.0  \n",
      "67                           3.48    510.0  \n",
      "dataframe size (59, 13) \n",
      "\n",
      "------------------------------------------\n",
      "TESTING DATASET TARGET\n",
      "19     0\n",
      "45     0\n",
      "140    2\n",
      "30     0\n",
      "67     1\n",
      "Name: target, dtype: int32\n",
      "Vector size (59,)\n"
     ]
    }
   ],
   "source": [
    "X_train, X_test, y_train, y_test = train_test_split(df_wine_predictors,  \n",
    "                                                    df_wine_target,\n",
    "                                                    test_size=0.33, # percentage of data that goes into the testing set\n",
    "                                                    random_state=42 # seed for random selection of data\n",
    "                                                   )\n",
    "\n",
    "# visualize\n",
    "print(\"TRAINING DATASET PREDICTORS\")\n",
    "print(X_train.head(), \"\\n\")\n",
    "print(\"dataframe size\", X_train.shape,\"\\n\")\n",
    "print(\"------------------------------------------\")\n",
    "print(\"TRAINING DATASET TARGET\")\n",
    "print(y_train,\"\\n\")\n",
    "print()\n",
    "print(\"------------------------------------------------------------------------------------\\n\")\n",
    "\n",
    "print(\"TESTING DATASET PREDICTORS\")\n",
    "print(X_test.head())\n",
    "print(\"dataframe size\", X_test.shape,\"\\n\")\n",
    "print(\"------------------------------------------\")\n",
    "print(\"TESTING DATASET TARGET\")\n",
    "print(y_test.head())\n",
    "print(\"Vector size\", y_test.shape)\n"
   ]
  },
  {
   "cell_type": "markdown",
   "metadata": {},
   "source": [
    "## k-fold Cross Validation"
   ]
  },
  {
   "cell_type": "code",
   "execution_count": 4,
   "metadata": {},
   "outputs": [
    {
     "data": {
      "image/png": "[encoded data removed]",
      "text/plain": [
       "<Figure size 432x288 with 1 Axes>"
      ]
     },
     "metadata": {
      "needs_background": "light"
     },
     "output_type": "display_data"
    }
   ],
   "source": [
    "# interval of possible parameters \n",
    "param_range = np.logspace(-7, -0.01, 20) \n",
    "\n",
    "# Peform 5-fold cross-validation and save training and validation error\n",
    "train_scores, test_scores = validation_curve(\n",
    "    SVC(),\n",
    "    X_train, \n",
    "    y_train,\n",
    "    param_name=\"gamma\", # parameter to vary\n",
    "    param_range=param_range,\n",
    "    scoring=\"accuracy\", \n",
    "    cv=5,    # number of folders\n",
    ")\n",
    "\n",
    "\n",
    "# convert accuracy into error\n",
    "train_error = 1-train_scores\n",
    "validation_error = 1-test_scores\n",
    "\n",
    "# compute 5-fold cross-validation mean and std of error \n",
    "train_error_mean = np.mean(train_error, axis=1)\n",
    "train_error_std = np.std(train_error, axis=1)\n",
    "validation_error_mean = np.mean(validation_error, axis=1)\n",
    "validation_error_std = np.std(validation_error, axis=1)\n",
    "\n",
    "# visualize\n",
    "plt.title(\"Validation Curve with SVM\")\n",
    "plt.xlabel(r\"$\\gamma$\")\n",
    "plt.ylabel(\"Error (1-accuracy)\")\n",
    "plt.ylim(-0.01, 1.1)\n",
    "lw = 2\n",
    "plt.semilogx(\n",
    "    param_range, train_error_mean, label=\"Training score\", color=\"darkorange\", lw=lw\n",
    ")\n",
    "plt.fill_between(\n",
    "    param_range,\n",
    "    train_error_mean - train_error_std,\n",
    "    train_error_mean + train_error_std,\n",
    "    alpha=0.2,\n",
    "    color=\"darkorange\",\n",
    "    lw=lw,\n",
    ")\n",
    "plt.semilogx(\n",
    "    param_range, validation_error_mean, label=\"Cross-validation score\", color=\"navy\", lw=lw\n",
    ")\n",
    "plt.fill_between(\n",
    "    param_range,\n",
    "    validation_error_mean - validation_error_std,\n",
    "    validation_error_mean + validation_error_std,\n",
    "    alpha=0.2,\n",
    "    color=\"navy\",\n",
    "    lw=lw,\n",
    ")\n",
    "plt.legend(loc=\"best\")\n",
    "plt.show()"
   ]
  },
  {
   "cell_type": "markdown",
   "metadata": {},
   "source": [
    "## Choose optimal parameter\n"
   ]
  },
  {
   "cell_type": "code",
   "execution_count": 12,
   "metadata": {},
   "outputs": [
    {
     "name": "stdout",
     "output_type": "stream",
     "text": [
      "    Mean validation error         gamma\n",
      "0                0.370290  1.000000e-07\n",
      "1                0.370290  2.332893e-07\n",
      "2                0.361957  5.442388e-07\n",
      "3                0.345290  1.269651e-06\n",
      "4                0.319203  2.961958e-06\n",
      "5                0.294203  6.909931e-06\n",
      "6                0.302536  1.612013e-05\n",
      "7                0.310870  3.760652e-05\n",
      "8                0.319203  8.773197e-05\n",
      "9                0.318841  2.046693e-04\n",
      "10               0.268478  4.774714e-04\n",
      "11               0.293478  1.113889e-03\n",
      "12               0.319203  2.598584e-03\n",
      "13               0.328261  6.062218e-03\n",
      "14               0.453986  1.414250e-02\n",
      "15               0.529710  3.299294e-02\n",
      "16               0.605072  7.696899e-02\n",
      "17               0.605072  1.795604e-01\n",
      "18               0.605072  4.188951e-01\n",
      "19               0.605072  9.772372e-01 \n",
      "\n",
      "Minimun validaiton error: 0.2684782608695652\n",
      "optimal gamma: 0.00047747140601752975\n"
     ]
    }
   ],
   "source": [
    "# save optimal gamma\n",
    "index_min = min(range(len(validation_error_mean)), key=validation_error_mean.__getitem__)\n",
    "validation_error_min = validation_error_mean[index_min]\n",
    "gamma_opt = param_range[index_min] # gamma that gives minimun validation error\n",
    "\n",
    "# visualize \n",
    "columns = [\"Mean validation error\",\"gamma\"]\n",
    "array = np.array([validation_error_mean, param_range]).transpose()\n",
    "\n",
    "print( pd.DataFrame(array,columns=columns), \"\\n\")\n",
    "print(\"Minimun mean validation error:\", validation_error_min)\n",
    "print(\"optimal gamma:\", gamma_opt)"
   ]
  },
  {
   "cell_type": "markdown",
   "metadata": {},
   "source": [
    "## Train the optimal hypothesis model"
   ]
  },
  {
   "cell_type": "code",
   "execution_count": 15,
   "metadata": {},
   "outputs": [
    {
     "name": "stdout",
     "output_type": "stream",
     "text": [
      "Error (1-Accuracy) of h_opt on testing data: \n",
      " -->> 0.30508474576271183\n"
     ]
    }
   ],
   "source": [
    "# train optimal model and evaluate accuracy \n",
    "h_opt = SVC(gamma=gamma_opt) # instiate optimal model \n",
    "h_opt.fit(X_train,y_train) # train the model to the entire training set\n",
    "print(\"Error (1-Accuracy) of h_opt on testing data: \\n -->>\",1- h_opt.score(X_test,y_test)) "
   ]
  },
  {
   "cell_type": "markdown",
   "metadata": {},
   "source": [
    "## Performance evaluation"
   ]
  },
  {
   "cell_type": "code",
   "execution_count": 14,
   "metadata": {},
   "outputs": [
    {
     "data": {
      "image/png": "[encoded data removed]",
      "text/plain": [
       "<Figure size 432x288 with 2 Axes>"
      ]
     },
     "metadata": {
      "needs_background": "light"
     },
     "output_type": "display_data"
    }
   ],
   "source": [
    "#plot confution Matrix\n",
    "plot_confusion_matrix(h_opt, # trained optimal hypothesis model\n",
    "                      X_test, \n",
    "                      y_test,\n",
    "                      display_labels=[\"bad wine\", \"good wine\", \"excellent wine\"]\n",
    "                     )\n",
    "plt.show()"
   ]
  }
 ],
 "metadata": {
  "kernelspec": {
   "display_name": "Python 3 (ipykernel)",
   "language": "python",
   "name": "python3"
  },
  "language_info": {
   "codemirror_mode": {
    "name": "ipython",
    "version": 3
   },
   "file_extension": ".py",
   "mimetype": "text/x-python",
   "name": "python",
   "nbconvert_exporter": "python",
   "pygments_lexer": "ipython3",
   "version": "3.8.10"
  }
 },
 "nbformat": 4,
 "nbformat_minor": 4
}
