{
 "cells": [
  {
   "cell_type": "markdown",
   "metadata": {},
   "source": [
    "(chpt-gui)=\n",
    "# Graphical User Interfaces (GUIs)\n",
    "\n",
    "Make code user-friendly. For interactive reading and executing code blocks [![Binder](https://mybinder.org/badge_logo.svg)](https://mybinder.org/v2/gh/hydro-informatics/hydro-informatics.github.io/main?filepath=jupyter) and find *gui.ipynb* or {ref}`install-python` locally along with {ref}`jupyter`.\n",
    "\n",
    "![img](https://raw.githubusercontent.com/sschwindt/hydroinformatics/main/docs/img/hello-gui.png)"
   ]
  },
  {
   "cell_type": "markdown",
   "metadata": {},
   "source": [
    "A Graphical User Interface (GUI) facilitates setting input variables of scripts. This is particularly useful if you want to reuse a script that you have written a long time ago without having to study the whole script again in detail. Although it is arguable whether GUIs are still appropriate in times of web applications, large and in particular copyrighted data must be processed locally. And for local data processing, a GUI is a very convenient way to control self-written, custom programs.\n",
    "\n",
    "Several GUI library (packages) are available for *Python* and this introduction uses the [`tkinter`](https://docs.python.org/3/library/tkinter.html) library. Alternatives are, for example, [*wxPython*](https://www.wxpython.org/) or [*Jython*](https://www.jython.org/) (a *Java* implementation of *Python 2*). `tkinter` is a standard library, which does not need to be installed additionally. For a quick example, type in the terminal (e.g., *PyCharm* or *Linux* terminal - not in the *Python* console):"
   ]
  },
  {
   "cell_type": "markdown",
   "metadata": {},
   "source": [
    "```\n",
    "python -m tkinter\n",
    "```"
   ]
  },
  {
   "cell_type": "markdown",
   "metadata": {},
   "source": [
    "```{admonition} Linux users\n",
    ":class: tip, dropdown\n",
    "*** If you encounter troubles with `tkinter` on *Linux*, make sure that `tkinter` for *Python* is installed, either with <br>`sudo apt-get install python3-tk`  or <br>`sudo apt-get install python3.X-tk` (replace `X` with your *Python* version) or<br> `sudo apt install tk8.6-dev` to install the library only (this should be sufficient). <br>If the above comments do not work, make sure that the `tkinter` repository is available to your system: `sudo add-apt-repository ppa:deadsnakes/ppa` (the repository address may change and depends on your *Linux* and *Python* versions).\n",
    "```"
   ]
  },
  {
   "cell_type": "markdown",
   "metadata": {},
   "source": [
    "`tkinter` works on many popular platforms (*Linux*, *macOS*, *Windows*) and is not only available to *Python*, but also to [*Ruby*](https://www.ruby-lang.org), [*Perl*](https://www.perl.org/), [*Tcl*](https://www.tcl-lang.org/) (the origin of of `tkinter`), and many more languages. Because of its support for languages like *Ruby* or *Perl*, `tkinter` can be used for local GUIs as well as for web applications.\n",
    "\n",
    "```{note}\n",
    "* All GUI codes on this pages can be downloaded from the [course respository](https://github.com/hydro-informatics/material-py-codes/raw/master/gui/) (please note that this scripts are only temporary available when the course takes place).\n",
    "\n",
    "\n",
    "* Consider using another IDE than *Jupyter* (e.g., *PyCharm* or *Spyder*) for running the code blocks provided in this notebook.\n",
    "```"
   ]
  },
  {
   "cell_type": "markdown",
   "metadata": {},
   "source": [
    "## The First GUI \n",
    "The very first step is to import `tkinter`, usually using the alias `as tk`. With `tk.Tk()`, a so-called parent window (e.g., `top`) can be created, in which all further elements will be accommodated. All futher elements are created as `tk` objects as child of the parent window and placed (arranged) in the parent window using the `pack()` or `.grid()` method. Here, we will use `pack` most of the time and `grid` will be useful to place elements at an exact position on the window (e.g., `tk.ELEMENT.grid(row=INT, column=INT)`). To display the GUI, the parent window `top` must be launched with `top.mainloop()` after arranging all elements. The following code block shows how to create a parent window with a label element (`tk.Label`)."
   ]
  },
  {
   "cell_type": "code",
   "execution_count": 1,
   "metadata": {},
   "outputs": [],
   "source": [
    "import tkinter as tk\n",
    "top = tk.Tk()\n",
    "a_label = tk.Label(top, text = \"A label just shows some text.\")\n",
    "a_label.pack()\n",
    "top.mainloop()"
   ]
  },
  {
   "cell_type": "markdown",
   "metadata": {},
   "source": [
    "![img](https://raw.githubusercontent.com/sschwindt/hydroinformatics/main/docs/img/py-tk-first.png)"
   ]
  },
  {
   "cell_type": "markdown",
   "metadata": {},
   "source": [
    "After calling the `mainloop()` method the window is in a *wait* state. That means, the window is waiting for `events` being triggered through user action action (e.g., a click on a button). This is called *event-driven programming*, where *event handlers* are called rather than a single linear flow of (*Python*) commands.\n",
    "\n",
    "For now, our window uses default values, for example for the window title, size and background color. These window properties can be modified with the `title`, `minsize` or `maxsize`, and `configure` attributes of the `top` parent window:"
   ]
  },
  {
   "cell_type": "code",
   "execution_count": 2,
   "metadata": {},
   "outputs": [],
   "source": [
    "top = tk.Tk()\n",
    "a_label = tk.Label(top, text=\"A label just shows some text.\")\n",
    "a_label.pack()\n",
    "\n",
    "top.title(\"My first GUI App\")\n",
    "top.minsize(628, 382)\n",
    "top.configure(bg=\"sky blue\")\n",
    "top.mainloop()"
   ]
  },
  {
   "cell_type": "markdown",
   "metadata": {},
   "source": [
    "![img](https://raw.githubusercontent.com/sschwindt/hydroinformatics/main/docs/img/py-tk-first-config.png)"
   ]
  },
  {
   "cell_type": "markdown",
   "metadata": {},
   "source": [
    "(add-button)=\n",
    "## Add a Button to Call a Function\n",
    " \n",
    "So far our window only shows a (boring) label and waits for events that do not exist. With a `tk.Button` we now add an event trigger. So that the event has something to trigger, we define a `call_back` function that creates an infobox. The infobox is an object of `showinfo` from `tkinter.messagebox`."
   ]
  },
  {
   "cell_type": "code",
   "execution_count": null,
   "metadata": {},
   "outputs": [],
   "source": [
    "from tkinter.messagebox import showinfo\n",
    "# more message boxes: askokcancel, askyesno\n",
    "\n",
    "def call_back(message):\n",
    "    showinfo(\"This is an Infobox\", message)\n",
    "\n",
    "\n",
    "top = tk.Tk()\n",
    "a_label = tk.Label(top, text=\"Here is the button.\")\n",
    "a_label.pack()\n",
    "# add a button\n",
    "a_button = tk.Button(top, text = \">> Click <<\", command=lambda: call_back(\"Greetings from the Button.\"))\n",
    "a_button.pack()\n",
    "top.mainloop()"
   ]
  },
  {
   "cell_type": "markdown",
   "metadata": {},
   "source": [
    "![img](https://raw.githubusercontent.com/sschwindt/hydroinformatics/main/docs/img/py-tk-button.png)"
   ]
  },
  {
   "cell_type": "markdown",
   "metadata": {},
   "source": [
    "```{note}\n",
    "The `command` receives a [`lambda`](pyfun.html#lambda) function that links to the `call_back` function. Why do we need this complication? The answer is that the `call_back` function will be automatically triggered with the `mainloop()` method if we were not using a `lambda` function here.\n",
    "```"
   ]
  },
  {
   "cell_type": "markdown",
   "metadata": {},
   "source": [
    "## A Vanilla `tkinter` Program\n",
    "\n",
    "So far we have created single `tkinter` objects (*widgets*) in script-style. However, when we write a GUI, we most likely want to start an application (*App*) by just running a script. This is why `tkinter` widgets are usually created as objects of custom classes. Therefore, we want to recast our example as object-oriented code according to the template from the [lecture on *Python* classes](classes.html#template).\n",
    "\n",
    "The below example creates a `VanillaApp`, which is a child of `tk.Frame` (`tkinters` master frame). The initialization method `__init__` needs to invoke `tk.Frame` and `pack()` it to initialize the window. After that, we can place other `widget`s such as labels and buttons as before. In the `VanillaApp`, we can also directly implement the `call_back` function from above as a method. Moreover, we want the below script to run stand-alone, also it is not part of a beautiful *jupyter* notebook. For this reason, the `if __name__ == \"__main__\": VanillaApp().mainloop()` statement is required at the bottom of the script (read more about the `__main__` statement on the [packages page](pckg.html#standalone))."
   ]
  },
  {
   "cell_type": "code",
   "execution_count": null,
   "metadata": {},
   "outputs": [],
   "source": [
    "# define the VanillaApp class\n",
    "class VanillaApp(tk.Frame):\n",
    "    def __init__(self, master=None):\n",
    "        tk.Frame.__init__(self, master)\n",
    "        self.pack()\n",
    "        \n",
    "        table_label = tk.Label(master, text=\"Do you want vanilla ice?\")\n",
    "        table_label.pack()\n",
    "        vanilla_button = tk.Button(master, text = \"I want Vanilla\", command=lambda: call_back(\"Here is Vanilla!\"))\n",
    "        vanilla_button.pack()\n",
    "        no_vanilla_button = tk.Button(master, text = \"I want something else\", command=lambda: call_back(\"Here is bread!\"))\n",
    "        no_vanilla_button.pack()\n",
    "        \n",
    "    def call_back(self, message):\n",
    "        showinfo(\"This is an Infobox\", message)\n",
    "\n",
    "\n",
    "# instantiate a VanillaApp object\n",
    "if __name__ == \"__main__\":\n",
    "    VanillaApp().mainloop()"
   ]
  },
  {
   "cell_type": "markdown",
   "metadata": {},
   "source": [
    "![img](https://raw.githubusercontent.com/sschwindt/hydroinformatics/main/docs/img/py-tk-vanilla.png)"
   ]
  },
  {
   "cell_type": "markdown",
   "metadata": {},
   "source": [
    "```{admonition} Create a Stand-alone App\n",
    ":class: tip\n",
    "The above code block with the `VanillaApp` class can be copied to any external *Python* file and saved as, for example, `vanilla_app.py`. With *Python*  being defined as a [system variable](https://docs.python.org/3/using/windows.html#excursus-setting-environment-variables) (only necessary in *Windows* - point at your *Anaconda* base environment's *Python* executable), the GUI can then be started as follows:\n",
    "\n",
    "1. Open Terminal (or command line `cmd` in *Windows*).\n",
    "2. Navigate to the directory where the script is located (use `cd` in [*Windows*](https://docs.microsoft.com/en-us/windows-server/administration/windows-commands/cd) or [*Linux/macOS*](http://www.linfo.org/cd.html)).\n",
    "3. Type `python vanilla_app.py` (or `python -m vanilla_app.py`) to launch the GUI.\n",
    "\n",
    "Another tip: this sequence of commands can also be written to a batch file ([`.bat` on *Windows*](https://www.wikihow.com/Write-a-Batch-File)) or shell script ([.sh on *Linux/macOS*](https://www.linux.com/training-tutorials/writing-simple-bash-script/) - [alternative source](http://linuxcommand.org/lc3_writing_shell_scripts.php)). Then, a double click on the batch file starts the *Python*-based GUI.\n",
    "```"
   ]
  },
  {
   "cell_type": "markdown",
   "metadata": {},
   "source": [
    "## More *Widget*s\n",
    "\n",
    "Are there only labels and buttons? There are many more widgets and the following illustration features some of them including a:\n",
    "\n",
    "* definition of a GUI window name with `master.title(\"Window name\")`\n",
    "* definition of a GUI window icon (ICO) with `master.iconbitmap(\"directory/icon_file.ico\")`\n",
    "* `tk.Menu` with drop down cascade\n",
    "* `tk.Label` (see above)\n",
    "* `tk.Button` (see above)\n",
    "* `tk.Entry` - a blank field where users can enter values or words\n",
    "* `ttk.Combobox` - a drop down menu in the master frame ([tk-themed](https://docs.python.org/3/library/tkinter.ttk.html) `ttk` widget)\n",
    "* `tk.Listbox` with a `tk.Scrollbar`, where the scrollbar is required to navigate to listbox entry that are not in the visible range of the listbox size\n",
    "* `tk.Checkbutton` that can be checked (ticked) to set a `tk.BooleanVar()` object to `True` (default: not checked -> `False`)<br>Alternatively, have a look at [`tk.Radiobutton`](http://effbot.org/tkinterbook/radiobutton.htm) to enable selections from a multiple-choice frame (rather than the `False`-`True`-only frame of a checkbutton)\n",
    "* `tk.PhotoImage` to display a sub-sampled image in the GUI\n",
    "\n",
    "![img](https://raw.githubusercontent.com/sschwindt/hydroinformatics/main/docs/img/py-tk-elements.png)\n",
    "\n",
    "And this is the code that creates the `tkinter` widgets in the figure (the [script](https://github.com/hydro-informatics/material-py-codes/raw/master/gui/start_gui.py), [image](https://github.com/hydro-informatics/material-py-codes/raw/master/gui/sunny_image.gif) and [icon](https://github.com/hydro-informatics/material-py-codes/raw/master/gui/gui_icon.ico) are available at the course repository when the lecture takes place):"
   ]
  },
  {
   "cell_type": "code",
   "execution_count": null,
   "metadata": {},
   "outputs": [],
   "source": [
    "import tkinter as tk\n",
    "from tkinter.messagebox import showinfo\n",
    "from tkinter import ttk\n",
    "\n",
    "\n",
    "class MyApp(tk.Frame):\n",
    "    def __init__(self, master=None):\n",
    "        tk.Frame.__init__(self, master)\n",
    "\n",
    "        self.master.title(\"Master Title\")\n",
    "        self.master.iconbitmap(\"gui/sample_icon.ico\")\n",
    "\n",
    "        # Set geometry: upper-left corner of the window\n",
    "        ww = 628  # width\n",
    "        wh = 382  # height\n",
    "        wx = (self.master.winfo_screenwidth() - ww) / 2\n",
    "        wy = (self.master.winfo_screenheight() - wh) / 2\n",
    "        # assign geometry\n",
    "        self.master.geometry(\"%dx%d+%d+%d\" % (ww, wh, wx, wy))\n",
    "        # assign space holders around widgets\n",
    "        self.dx = 5\n",
    "        self.dy = 5\n",
    "\n",
    "        # Menu Bar\n",
    "        self.mbar = tk.Menu(self)  # create standard menu bar\n",
    "        self.master.config(menu=self.mbar)  # make self.mbar standard menu bar\n",
    "        # add menu entry\n",
    "        self.ddmenu = tk.Menu(self, tearoff=0)\n",
    "        self.mbar.add_cascade(label=\"A Drop Down Menu\", menu=self.ddmenu)  # attach entry it to standard menu bar\n",
    "        self.ddmenu.add_command(label=\"Drop Down Entry 1\", command=lambda: self.hello(\"Drop Down Menu!\"))\n",
    "\n",
    "        # Label\n",
    "        self.a_label = tk.Label(master, text=\"A Label\")\n",
    "        self.a_label.grid(column=0, row=0, padx=self.dx, pady=self.dy)\n",
    "\n",
    "        # Button\n",
    "        self.a_button = tk.Button(master, text=\"A Button\", command=lambda: self.hello(\"The Button!\"))\n",
    "        self.a_button.grid(column=0, row=1, padx=self.dx, pady=self.dy)\n",
    "\n",
    "        # Entry\n",
    "        self.an_entry = tk.Entry(master, width=20)\n",
    "        self.an_entry.grid(column=0, row=2, padx=self.dx, pady=self.dy)\n",
    "\n",
    "        # Combobox\n",
    "        self.cbox = ttk.Combobox(master, width=20)\n",
    "        self.cbox.grid(column=0, row=3, padx=self.dx, pady=self.dy)\n",
    "        self.cbox['state'] = 'readonly'\n",
    "        self.cbox['values'] = [\"Combobox Entry 1\", \"Combobox Entry 2\", \"Combobox Entry ...\"]\n",
    "        self.cbox.set(\"Combobox Entry 1\")\n",
    "        self.cbox_selection = self.cbox.get()\n",
    "\n",
    "        # Listbox with Scrollbar\n",
    "        self.scrlbar = tk.Scrollbar(master, orient=tk.VERTICAL)\n",
    "        self.scrlbar.grid(stick=tk.W, column=1, row=4, padx=self.dx, pady=self.dy)\n",
    "        self.lbox = tk.Listbox(master, height=3, width=20, yscrollcommand=self.scrlbar.set)\n",
    "        for e in [\"Listbox Entry 1\", \"Listbox Entry 2\", \"With Scrollbar ->\", \"lb entry n\"]:\n",
    "            self.lbox.insert(tk.END, e)\n",
    "        self.lbox.grid(sticky=tk.E, column=0, row=4, padx=self.dx, pady=self.dy)\n",
    "        self.scrlbar.config(command=self.lbox.yview)\n",
    "        self.lbox_selection = self.lbox.get(0)\n",
    "\n",
    "        # Checkbutton\n",
    "        self.check_variable = tk.BooleanVar()\n",
    "        self.cbutton = tk.Checkbutton(master, text=\"Tick this Checkbutton\", variable=self.check_variable)\n",
    "        self.cbutton.grid(sticky=tk.E, column=2, row=0, padx=self.dx, pady=self.dy)\n",
    "\n",
    "        # Image\n",
    "        logo = tk.PhotoImage(file=\"gui\\\\sunny_image.gif\")\n",
    "        logo = logo.subsample(2, 2)  # controls size\n",
    "        self.l_img = tk.Label(master, image=logo)\n",
    "        self.l_img.image = logo\n",
    "        self.l_img.grid(row=1, column=2, rowspan=4)\n",
    "        # create a placeholder to relax layout\n",
    "        tk.Label(text=\"                                                    \").grid(row=0, column=1)\n",
    "        \n",
    "    @staticmethod\n",
    "    def hello(message):\n",
    "        showinfo(\"Got Message from ...\", message)\n",
    "\n",
    "\n",
    "if __name__ == '__main__':\n",
    "    MyApp().mainloop()"
   ]
  },
  {
   "cell_type": "markdown",
   "metadata": {},
   "source": [
    "As usual in *Python*, there are many more options (widgets) available and the [effbot.org](http://effbot.org/tkinterbook/) offers a detailed overview of available `tkinter` objects."
   ]
  },
  {
   "cell_type": "markdown",
   "metadata": {},
   "source": [
    "## `tkinter` Variables\n",
    "\n",
    "In the above example, the checkbox receives a `tk.BooleanVar()`, which takes a `True` value when a user checks the checkbox. There are more variables that can be associated with `tkinter` widgets (e.g., an `tk.Entry`, a `tk.Listbox`, or a `ttk.Combobox`). `tkinter` variables correspond basically to [*Python* data types](pybase.html#var) with special methods that are required to set or retrieve (get) user-defined values of these data types. Here is an overview of `tkinter` variables:\n",
    "\n",
    "* `tk.BooleanVar()` of type *boolean* can be `True` or `False`\n",
    "* `tk.DoubleVar()` is a numeric floating point (*float*) variable\n",
    "* `tk.IntVar()` is a numeric *integer* variable\n",
    "* `tk.StringVar()` is a *string* (i.e., typically some text)\n",
    "\n",
    "Now the question is, how does *Python* know when to retrieve a user-defined value? Typically, we want to evaluate user-defined values when we call a function that receives user-defined values as input arguments. Predefined default) values in a script can be set with `VARIABLE.set()` and the user settings can be retrieved with `VARIABLE.get()`. The following [script](https://github.com/hydro-informatics/material-py-codes/raw/master/gui/variable_gui.py) and the [icon](https://github.com/hydro-informatics/material-py-codes/raw/master/gui/gui_icon.ico) are available at the course repository (when the lecture takes place)."
   ]
  },
  {
   "cell_type": "code",
   "execution_count": null,
   "metadata": {},
   "outputs": [],
   "source": [
    "from tkinter.messagebox import showinfo\n",
    "import random\n",
    "\n",
    "class MyApp(tk.Frame):\n",
    "    def __init__(self, master=None):\n",
    "        tk.Frame.__init__(self, master)\n",
    "\n",
    "        self.master.title(\"GUI with variables\")\n",
    "        self.master.iconbitmap(\"gui/sample_icon.ico\")\n",
    "\n",
    "        # Set geometry: upper-left corner of the window\n",
    "        ww = 628  # width\n",
    "        wh = 100  # height\n",
    "        wx = (self.master.winfo_screenwidth() - ww) / 2\n",
    "        wy = (self.master.winfo_screenheight() - wh) / 2\n",
    "        # assign geometry\n",
    "        self.master.geometry(\"%dx%d+%d+%d\" % (ww, wh, wx, wy))\n",
    "\n",
    "        self.a_label = tk.Label(master, text=\"Enter a value to call:\")\n",
    "        self.a_label.grid(column=0, row=0, padx=5, pady=5)\n",
    "        \n",
    "        # define tk.StringVar() and assign it to an entry\n",
    "        self.user_entry = tk.StringVar()\n",
    "        self.an_entry = tk.Entry(master, width=20, textvariable=self.user_entry)\n",
    "        self.an_entry.grid(column=1, row=0, padx=5, pady=5)\n",
    "\n",
    "        # define Button to trigger call back\n",
    "        self.a_button = tk.Button(master, text=\"Call Message!\", command=lambda: self.message_distributor())\n",
    "        self.a_button.grid(column=2, row=0, padx=5, pady=5)\n",
    "\n",
    "        # define a Checkbutton to use either user input or a random message\n",
    "        self.check_variable = tk.BooleanVar()\n",
    "        self.cbutton = tk.Checkbutton(master, text=\"Check this box to use a random message instead of the entry\", variable=self.check_variable)\n",
    "        self.cbutton.grid(sticky=tk.E, column=0, columnspan=3, row=1, padx=5, pady=5)\n",
    "        self.check_variable.set(False)\n",
    "\n",
    "        \n",
    "    def message_distributor(self):\n",
    "        if not self.check_variable.get():\n",
    "            showinfo(\"User message\", self.user_entry.get())\n",
    "        else:\n",
    "            showinfo(\"Random message\", self.random_message())\n",
    "        \n",
    "    def random_message(self):\n",
    "        random_words = [\"summer\", \"winter\", \"is\", \"cold\", \"hot\", \"will be\"]\n",
    "        return \" \".join(random.sample(random_words, 3))\n",
    "\n",
    "\n",
    "if __name__ == '__main__':\n",
    "    MyApp().mainloop()"
   ]
  },
  {
   "cell_type": "markdown",
   "metadata": {},
   "source": [
    "![img](https://raw.githubusercontent.com/sschwindt/hydroinformatics/main/docs/img/py-tk-variables.png)"
   ]
  },
  {
   "cell_type": "markdown",
   "metadata": {},
   "source": [
    "(place-widget)=\n",
    "## Design, Place and Modify Widgets\n",
    "\n",
    "The above code examples use both the `OBJECT.grid()` and the `OBJECT.pack()` methods (geometry managers) to place widgets in the GUI. There is one additional geometry manager in the shape of the `place` method. Which of the geometry managers you want to use is entirely up to you - there are pros and cons for all geometry managers:\n",
    "\n",
    "* `pack`\n",
    "    - automatically places widgets within a box\n",
    "    - works best for simple GUIs, where all widgets are in one column or row\n",
    "    - complex layouts can be handled with complicated workarounds (tip: do not try)\n",
    "* `place`\n",
    "    - places widgets at absolute or relative *x*-*y* positions\n",
    "    - works well for graphical arrangements of widgets\n",
    "* `grid`\n",
    "    - places widgets in columns and rows of a grid\n",
    "    - works well with table-like apps and structured layouts\n",
    "    \n",
    "To enable more graphical flexibility, widgets accept many optional keywords to change their foreground (`fg`) or background (`bg`) color. In addition, widgets can be modified with the `tk.OBJECT.config(PARAMETER_TO_CONMFIGURE=NEW_CONFIG)` method.\n",
    "\n",
    "The following sections provide more details on the `place` and `grid` geometry managers (the relevant functions of `pack` are already above shown: `pack()` -  that is basically all) and illustrate some keyword arguments as well as widget methods to modify widgets.\n",
    "\n",
    "### Place with `place` and Use Object Colors\n",
    "\n",
    "The simplest geometry manager is the `pack` method, which works even without any keyword provided as the very first examples on this page illustrate. With the `pack` method, widgets can be placed relatively in the window (`relx` and `rely`, where both must be < 1) or with absolute positions (`x` and `y`, where both should fit into the window dimensions define with `self.config(width=INT, height=INT)`). The axis origin (zero positions of *x* and *y*) are determined with the `anchor` keyword.\n"
   ]
  },
  {
   "cell_type": "code",
   "execution_count": null,
   "metadata": {},
   "outputs": [],
   "source": [
    "class PlacedApp(tk.Frame):\n",
    "    def __init__(self, master=None, **options):\n",
    "        tk.Frame.__init__(self, master, **options)\n",
    "        self.pack(expand=True, fill=tk.BOTH)\n",
    "        self.config(width=628, height=100)\n",
    "        self.master.title(\"A placed GUI\")\n",
    "        tk.Label(self, text=\"Vanilla\", bg=\"goldenrod\", fg=\"dark slate gray\").place(anchor=tk.NW, relx=0.2, y=10)\n",
    "        tk.Label(self, text=\"Green green tree\", bg=\"OliveDrab1\").place(anchor=tk.E, relx=0.8, rely=0.5)\n",
    "        tk.Label(self, text=\"Blue sky\", bg=\"DeepSkyBlue4\", fg=\"floral white\").place(anchor=tk.CENTER, x=300, rely=0.8)\n",
    "\n",
    "\n",
    "if __name__ == '__main__':\n",
    "    PlacedApp().mainloop()"
   ]
  },
  {
   "cell_type": "markdown",
   "metadata": {},
   "source": [
    "![img](https://raw.githubusercontent.com/sschwindt/hydroinformatics/main/docs/img/py-tk-placed.png)"
   ]
  },
  {
   "cell_type": "markdown",
   "metadata": {},
   "source": [
    "```{note}\n",
    "The above example does not create class objects of `tk.Labels`, which makes the labels non-modifiable. This definition of widgets is acceptable to shorten the often long GUI scripts, but only if the widgets should not be modified later.\n",
    "```"
   ]
  },
  {
   "cell_type": "markdown",
   "metadata": {},
   "source": [
    "### Place Objects with `grid`\n",
    "In `grid`-ed GUIs, the widget alignment can be controlled with the `sticky` argument that uses cardinal directions (e.g., `sticky=tk.W` aligns or \"sticks\" a widget the west, i.e., left side, of a GUI).\n",
    "The `padx` and `pady` keywords arguments enable the implementation of pixel space around widgets"
   ]
  },
  {
   "cell_type": "code",
   "execution_count": null,
   "metadata": {},
   "outputs": [],
   "source": [
    "from tkinter.messagebox import showinfo\n",
    "\n",
    "class GriddedApp(tk.Frame):\n",
    "    def __init__(self, master=None, **options):\n",
    "        tk.Frame.__init__(self, master, **options)\n",
    "        self.pack(expand=True, fill=tk.BOTH)\n",
    "        self.config(width=628, height=100)\n",
    "        self.master.title(\"A grid GUI\")\n",
    "        tk.Label(self, text=\"Enter name: \", bg=\"bisque2\", fg=\"gray21\").grid(sticky=tk.W, row=0, column=0, padx=10)\n",
    "        tk.Entry(self, bg=\"gray76\", width=20).grid(stick=tk.EW, row=0, column=1, padx=5)\n",
    "        tk.Button(self, text=\"Show message\", bg=\"pale turquoise\", fg=\"red4\", command=lambda: showinfo(\"Info\", \"Random message\")).grid(row=0, column=2, padx=5)\n",
    "        tk.Checkbutton(self, text=\"A Checkbutton over multiple columns\").grid(stick=tk.E, row=1, column=0, columnspan=3, pady=15)\n",
    "\n",
    "\n",
    "if __name__ == '__main__':\n",
    "    GriddedApp().mainloop()"
   ]
  },
  {
   "cell_type": "markdown",
   "metadata": {},
   "source": [
    "![img](https://raw.githubusercontent.com/sschwindt/hydroinformatics/main/docs/img/py-tk-grid.png)"
   ]
  },
  {
   "cell_type": "markdown",
   "metadata": {},
   "source": [
    "### Configure Widgets\n",
    "Upon user actions (events), we may want to modify previously defined widgets. For example, we may want to change the text of a label or the layout of a button to indicate successful or failed operations. For this purpose, `tkinter` objects can be modified with `tk.OBJECT.config(PARAMETER_TO_CONMFIGURE=NEW_CONFIG)`. Moreover, objects can be delete (destroyed) with `tk.OBJECT.destroy()`, even though this is not an elegant method for any other widgets that pop-up windows (child frames of the master frame).\n"
   ]
  },
  {
   "cell_type": "code",
   "execution_count": null,
   "metadata": {},
   "outputs": [],
   "source": [
    "from tkinter.messagebox import showinfo, showerror\n",
    "\n",
    "class ReConfigApp(tk.Frame):\n",
    "    def __init__(self, master=None, **options):\n",
    "        tk.Frame.__init__(self, master, **options)\n",
    "        self.config(width=628, height=100)\n",
    "        self.pack()\n",
    "        \n",
    "        self.user_depth = tk.DoubleVar()\n",
    "        self.kst = 40.0\n",
    "        self.w = 5.0\n",
    "        self.slope = 0.002\n",
    "        \n",
    "        \n",
    "        self.master.title(\"A GUI that reconfigures its widgets\")\n",
    "        tk.Label(self, text=\"Enter flow depth (numeric, in meters): \", bg=\"powder blue\", fg=\"medium blue\").grid(sticky=tk.W, row=0, column=0, padx=10)\n",
    "        tk.Entry(self, bg=\"alice blue\", width=20, textvariable=self.user_depth).grid(stick=tk.EW, row=0, column=1, padx=5)\n",
    "        self.eval_button = tk.Button(self, text=\"Estimate flow velocity\", bg=\"snow2\", fg=\"dark violet\", command=lambda: self.call_estimator())\n",
    "        self.eval_button.grid(row=0, column=2, padx=5)\n",
    "        \n",
    "    def call_estimator(self):\n",
    "        try:\n",
    "            flow_depth = float(self.user_depth.get())\n",
    "        except tk.TclError:\n",
    "            return showerror(\"ERROR\", \"Non-numeric value entered.\")\n",
    "        self.eval_button.config(fg=\"green4\", bg=\"DarkSeaGreen1\")\n",
    "        showinfo(\"Result\", \"The estimated flow velocity is: \" + str(self.estimate_u(flow_depth)))\n",
    "        \n",
    "    def estimate_u(self, h):\n",
    "        try:\n",
    "            return self.kst * h**(2/3) * self.slope**0.5\n",
    "        except ValueError:\n",
    "            showerror(\"ERROR: Bad values defined.\")\n",
    "            return None\n",
    "        except TypeError:\n",
    "            showerror(\"ERROR: Bad data types defined.\")\n",
    "            return None\n",
    "        \n",
    "\n",
    "if __name__ == '__main__':\n",
    "    ReConfigApp().mainloop()"
   ]
  },
  {
   "cell_type": "markdown",
   "metadata": {},
   "source": [
    "![img](https://raw.githubusercontent.com/sschwindt/hydroinformatics/main/docs/img/py-tk-config.png)"
   ]
  },
  {
   "cell_type": "markdown",
   "metadata": {},
   "source": [
    "***\n",
    "\n",
    "```{admonition} Challenge\n",
    "1. The roughness value varies from case to case. Can you implement a `ttk.Combobox` to let a user choose a Strickler *k<sub>st</sub>* roughness value between 10 and 85 (integers) and define the channel slope in a `tk.Entry` or a custom pop-up window (see below)?\n",
    "2. The cross-section averaged flow velocity also depends on the cross-section geometry. Can you implement `tkinter` widgets to enable the bank slope `m` and channel base width `w` to calculate the hydraulic radius?\n",
    "```\n",
    "\n",
    "***\n",
    "\n",
    "![img](https://raw.githubusercontent.com/sschwindt/hydroinformatics/main/docs/img/flowVariables_xs.png)"
   ]
  },
  {
   "cell_type": "markdown",
   "metadata": {},
   "source": [
    "## Pop-up Windows\n",
    "\n",
    "### Default Messages from `tkinter.messagebox`\n",
    "The `tkinter.messagebox` window provides some standard pop-up windows such as:\n",
    "\n",
    "* `showinfo(title=STR, message=STR)` that prints some information message (see above examples).\n",
    "* `showwarning(title=STR, message=STR)` that prints a warning message.\n",
    "* `showerror(title=STR, message=STR)` that prints an error message (see above example).\n",
    "* `askyesno(title=STR, message=STR)` that returns `False` or `True` depending on a user's answers to a *Yes-or-No* question.\n",
    "* `askretrycancel(title=STR, message=STR)` that returns `False` or `True`, or re-attempts to run an event (function) depending on a user's answers to a *Yes-or-No-or-Cancel* question.\n",
    "* `askokcancel(title=STR, message=STR)` that returns `False` or `True` depending on a user's answers to a *OK* question.\n",
    "* `askretrycancel(title=STR, message=STR)` that returns `False` or `True`, or re-attempts to run an event (function) depending on a user's answers to a *OK-or-Cancel* question.\n",
    "\n",
    "Read more about default pop-up windows in the [*Python* docs](https://docs.python.org/3.9/library/tkinter.messagebox.html).\n",
    "\n",
    "### Top-level Custom Pop-ups\n",
    "The default windows may not meet the needs, for example to invite users to enter a custom value. In this case, a `tk.Toplevel` object aids to produce a custom window. The below example shows how a custom top-level pop-up window can be called within a method. With the `tk.Toplevel` widget and the `tk.Frame` (master) widgets, there are two frames now, where buttons, labels, or any other `tkinter` object can be placed. The very first argument of any `tkinter` object created determines whether the object is placed in the master or the top-level frame. For example, `tk.Entry(self).pack()` creates an entry in the master `tk.Frame`, and `tk.Entry(pop_up).pack()` creates an entry in the child `tk.Toplevel`."
   ]
  },
  {
   "cell_type": "code",
   "execution_count": null,
   "metadata": {},
   "outputs": [],
   "source": [
    "from tkinter.messagebox import showwarning\n",
    "\n",
    "class PopApp(tk.Frame):\n",
    "    def __init__(self, master=None, **options):\n",
    "        tk.Frame.__init__(self, master, **options)\n",
    "        self.config(width=628, height=50)\n",
    "        self.pack()\n",
    "        \n",
    "        self.master.title(\"Custom pop-up GUI\")\n",
    "        self.pop_button = tk.Button(self, text=\"Open pop-up window\", bg=\"cadet blue\", fg=\"white smoke\", command=lambda: self.new_window())\n",
    "        self.pop_button.pack()\n",
    "        \n",
    "    def destroy_buttons(self):\n",
    "        self.pop_button.destroy()\n",
    "        self.p_button1.destroy()\n",
    "        self.p_button2.destroy()        \n",
    "        showwarning(\"Congratulations\", \"This app is useless now. Don't press red-ish buttons ...'\")\n",
    "        \n",
    "    def new_window(self):\n",
    "        pop_up = tk.Toplevel(master=self)\n",
    "        # add two buttons to the new pop_up Toplevel object (window)\n",
    "        self.p_button1 = tk.Button(pop_up, text=\"Destroy buttons (do not click here)\", fg=\"DarkOrchid4\",\n",
    "                                   bg=\"HotPink1\", command=lambda: self.destroy_buttons())\n",
    "        self.p_button2 = tk.Button(pop_up, text=\"Close window\", command=lambda: pop_up.quit())  \n",
    "        self.p_button1.pack()\n",
    "        self.p_button2.pack()\n",
    "\n",
    "\n",
    "if __name__ == '__main__':\n",
    "    PopApp().mainloop()"
   ]
  },
  {
   "cell_type": "markdown",
   "metadata": {},
   "source": [
    "![img](https://raw.githubusercontent.com/sschwindt/hydroinformatics/main/docs/img/py-tk-popup-custom.png)"
   ]
  },
  {
   "cell_type": "markdown",
   "metadata": {},
   "source": [
    "### File Dialog (Open ...)\n",
    "When a custom function's argument is a file or file name, we most likely want the user to be able to select the file needed. The [`tkinter.filedialog`](https://docs.python.org/3.10/library/dialog.html#module-tkinter.filedialog) module provides methods to let user choose general or specific file types. Specific file types can be defined with the `filetypes=(\"Name\", \"*.ending\")` (or `filetypes=(\"Name\", \"*.ending1;*.ending2;...\")` for multiple file types) keyword argument. The following example illustrates the usage of `tkinter.filedialog`'s `askopenfilename`."
   ]
  },
  {
   "cell_type": "code",
   "execution_count": null,
   "metadata": {},
   "outputs": [],
   "source": [
    "from tkinter.filedialog import askopenfilename\n",
    "from tkinter.messagebox import showinfo\n",
    "\n",
    "class OpenFileApp(tk.Frame):\n",
    "    def __init__(self, master=None, **options):\n",
    "        tk.Frame.__init__(self, master, **options)\n",
    "        self.config(width=628, height=50)\n",
    "        self.pack()\n",
    "        \n",
    "        self.master.title(\"GUI to open a file\")\n",
    "        \n",
    "        self.pop_button = tk.Button(self, text=\"Open a text file\", bg=\"light steel blue\", fg=\"dark slate gray\", command=lambda: self.open_file())\n",
    "        self.pop_button.pack()\n",
    "        \n",
    "    def open_file(self):\n",
    "        file_types = ((\"Text\", \"*.txt;*.csv;*.asc\"),)  # equivalent to [(\"Text\", \"*.txt;*.csv;*.asc\")]\n",
    "        file_name = askopenfilename(initialdir=\".\", title=\"Select a text file\", filetypes=file_types, parent=self)\n",
    "        showinfo(\"File info\", \"You selected \" + str(file_name))\n",
    "\n",
    "\n",
    "if __name__ == '__main__':\n",
    "    OpenFileApp().mainloop()"
   ]
  },
  {
   "cell_type": "markdown",
   "metadata": {},
   "source": [
    "![img](https://raw.githubusercontent.com/sschwindt/hydroinformatics/main/docs/img/py-tk-filedialog.png)"
   ]
  },
  {
   "cell_type": "markdown",
   "metadata": {},
   "source": [
    "## Quit\n",
    "to cleanly quit a GUI, use `tk.Frame.quit()` (i.e., in a custom class `self.quit()` or `master.quit()`. The above example of the `PopApp` class also features the `destroy()` method, which helps to remove particular widgets.\n",
    "\n",
    "`tkinter` provides many more options such as the implementation of tabs with `ttk.Notebook()` (requires [binding](https://effbot.org/tkinterbook/tkinter-events-and-bindings.htm) of tab objects), tables (`from tkintertable import TableCanvas, TableModel`), or interactive graphic objects with\n",
    "\n",
    "```python\n",
    "import matplotlib\n",
    "matplotlib.use('TkAgg')\n",
    "import numpy as np\n",
    "from matplotlib.backends.backend_tkagg import FigureCanvasTkAgg\n",
    "from matplotlib.figure import Figure\n",
    "```\n",
    "\n",
    "Enjoy creating your custom apps!"
   ]
  },
  {
   "cell_type": "markdown",
   "metadata": {},
   "source": [
    "```{admonition} Exercise\n",
    "Get familiar with creating GUIs and object orientation in the [GUI](../exercises/ex-gui) exercise.\n",
    "```"
   ]
  }
 ],
 "metadata": {
  "kernelspec": {
   "display_name": "Python 3",
   "language": "python",
   "name": "python3"
  },
  "language_info": {
   "codemirror_mode": {
    "name": "ipython",
    "version": 3
   },
   "file_extension": ".py",
   "mimetype": "text/x-python",
   "name": "python",
   "nbconvert_exporter": "python",
   "pygments_lexer": "ipython3",
   "version": "3.8.5"
  }
 },
 "nbformat": 4,
 "nbformat_minor": 4
}
