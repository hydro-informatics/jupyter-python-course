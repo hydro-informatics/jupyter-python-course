{
 "cells": [
  {
   "cell_type": "markdown",
   "metadata": {},
   "source": [
    "# Errors, Logging, and Debugging\n",
    "\n",
    "Handle error types and troubleshoot (debug). \n",
    "\n",
    "> **Requirements:** Make sure to complete the Python introduction on data types before diving into this tutorial.\n",
    "\n",
    "## Errors & Exceptions\n",
    "\n",
    "### Error Types\n",
    "\n",
    "To err is human and Python helps us to find our mistakes by providing [error](https://docs.python.org/3/tutorial/errors.html) type descriptions. Here is a list of common errors that may occur when writing/running Python code:\n",
    "\n",
    "| Error Type          | Description                                                 | Example                                                   |\n",
    "|---------------------|-------------------------------------------------------------|-----------------------------------------------------------|\n",
    "| `KeyError`          | A mapping key is not found.                                 | May occur when referencing a non-existing dictionary key. |\n",
    "| `ImportError`       | Importing a module that does not exist                      | `import the-almighty-module`                              |\n",
    "| `IndentationError`  | The code block indentation is not correct.                  | See [code style descriptions](https://hydro-informatics.com/python-basics/pystyle.html#indentation)      |\n",
    "| `IndexError`        | An index outside the range of a variable is used.           | `list = [1, 2]  print(list[2])`                           |\n",
    "| `NameError`         | An undefined variable is referenced.                        | `print(a)`                                                |\n",
    "| `TypeError`         | Incompatible data types and/or operators are used together. | `\"my_string\" / 10`                               |\n",
    "| `ValueError`        | Incorrect data type used.                                   | `int(input(\"Number:\"))` answered with `t`                 |\n",
    "| `ZeroDivisionError` | Division by zero.                                           | `3 / 0`                                                   |\n",
    "\n",
    "Still, there are many more error types that can occur an Python developers maintain comprehensive descriptions of built-in exceptions on the [Python documentation web site](https://docs.python.org/3.8/library/exceptions.html).\n"
   ]
  },
  {
   "cell_type": "markdown",
   "metadata": {},
   "source": [
    "### Exception Handling with `try` - `except`\n",
    "\n",
    "`try` and `except` keywords test a code block and if it crashes, an `exception` is raised, but the script itself will not crash (unless otherwise defined in the `except` statement). The basic structure is:"
   ]
  },
  {
   "cell_type": "markdown",
   "metadata": {},
   "source": [
    "```python\n",
    "try:\n",
    "    # code block\n",
    "except ErrorType:\n",
    "    print(\"Error / warning message.\")\n",
    "```"
   ]
  },
  {
   "cell_type": "markdown",
   "metadata": {},
   "source": [
    "The `ErrorType` is technical not necessary (i.e., `except:` does the job, too), but adding an `ErrorType` is good practice to enable efficient debugging or making other users understand the origin of an error or warning. The following example illustrates the implementation of a `ValueError` in an interactive console script that requires users to type an integer value."
   ]
  },
  {
   "cell_type": "code",
   "execution_count": null,
   "metadata": {},
   "outputs": [],
   "source": [
    "try:\n",
    "    x = int(input(\"How many scoops of ice cream do you want? \"))\n",
    "except ValueError:\n",
    "    print(\"What's that? sorry, please try again.\")"
   ]
  },
  {
   "cell_type": "markdown",
   "metadata": {},
   "source": [
    "What to do if you are unsure about the error type? Add an `else` statement (using exception functions such as `key_not_found` or `handle_value`):"
   ]
  },
  {
   "cell_type": "markdown",
   "metadata": {},
   "source": [
    "```python\n",
    "try:\n",
    "    value = a_dictionary[key]\n",
    "except KeyError:\n",
    "    return key_not_found(key)\n",
    "else:\n",
    "    return handle_value(value)\n",
    "```"
   ]
  },
  {
   "cell_type": "markdown",
   "metadata": {},
   "source": [
    "### The `pass` Statement\n",
    "When we start writing code, we are often facing a complex challenge that cannot be coded all at a time. For these challenges, Python helps us with the `pass` statement that enables the implementation of empty (void) code blocks and running code incrementally (i.e., to debug the code). In addition, the above error type definitions aid to understand errors that we made in already written code. For instance, to define later what happens when Python runs into a `NameError`, a `pass` statement can be implemented as follows:"
   ]
  },
  {
   "cell_type": "code",
   "execution_count": null,
   "metadata": {},
   "outputs": [],
   "source": [
    "try:\n",
    "    a = 5\n",
    "    c = a + b # we want to define b later on with a complex formula\n",
    "except NameError:\n",
    "    pass # we know that we did not define b yet"
   ]
  },
  {
   "cell_type": "markdown",
   "metadata": {},
   "source": [
    "> The `pass` statement should only be temporary and it has a much broader application range, for example, in [functions](https://hydro-informatics.com/jupyter/pyfun.html) and [classes](https://hydro-informatics.com/jupyter/classes.html)."
   ]
  },
  {
   "cell_type": "markdown",
   "metadata": {},
   "source": [
    "## Logging \n",
    "\n",
    "The `print()` function is useful to print variables or computation progress to the console (not too often though; printing takes time and slows down calculations). For robust reporting of errors or other important messages, however, a log file represents a better choice. So what is a log file or the act of logging? We know logbooks from discoverers or adventurers, who write down their experiences ordered by dates. Similarly, a code can write down (*log*) its \"experiences\", but in a file instead of a book. For this purpose, Python has the standard [*logging* library](https://docs.python.org/3/howto/logging.html). For the moment, it is sufficient to know that the *logging* library can be imported in any Python script with `import logging` (more information about packages, modules, and libraries is provided in the [Package, Modules and Libraries](https://hydro-informatics.com/jupyter/pypckg.html) section).\n",
    "\n",
    "The below code block imports the *logging* module, and uses the following keyword arguments to set the `logging.basicConfig`:\n",
    "\n",
    "* `filename=\"my-logfile.log\"` makes the logging module write messages to a file named `\"my-logfile.log\"` in the same directory where the Python script is running.\n",
    "* `format=\"%(asctime)s - %(message)s` sets the logging format to `YYYY-MM-DD HH:MM:SS.sss - `*Message text* (more format options are listed in the [Python docs](https://docs.python.org/3/howto/logging.html#displaying-the-date-time-in-messages)).\n",
    "* `filemode=\"w\"` overwrites previous messages in the log file (remove this argument to append messages instead of overwriting).\n",
    "* `level=logging.DEBUG` defines the severity of messages written to the log file, where `DEBUG` is adequate for problem diagnoses in codes; other levels of event severity are:\n",
    "    - `logging.INFO` to write all confirmation messages of events that worked as expected.\n",
    "    - `logging.WARNING` (**default**) to indicate when an unexpected event happened or when an event may cause an error in the future (e.g., because of insufficient disk space).\n",
    "    - `logging.ERROR` to report serious problems that make the code crashing or not produce the desired result.\n",
    "    - `logging.CRITICAL` is a broader serious problem indicator, where the program itself may not be able to continue running (e.g., not only the code but also Python crashes).\n",
    "\n",
    "Until here, messages are only written to the log file, but we cannot see any message in the console. To enable simultaneous logging to a log file and the console (Python terminal), use `logging.getLogger().addHandler(logging.StreamHandler())` that appends an *io* stream handler.\n",
    "\n",
    "To write a message to the log file (and Python terminal), use \n",
    "* `logging.debug(\"message\")` for code diagnoses,\n",
    "* `logging.info(\"message\")` for progress information (just like we used `print(\"message\")` before),\n",
    "* `logging.warning(\"warning-message\")` for unexpected event documentation (without the program being interrupted),\n",
    "* `logging.error(\"error-message\")` for errors that entail malfunction of the code, and\n",
    "* `logging.critical(\"message\")` for critical errors that may lead to program (Python) crashes.\n",
    "\n",
    "*Warning*, *error*, and *critical* messages should be implemented in exception raises (see above `try` - `except` statements).\n",
    "\n",
    "At the end of a script, logging should be stopped with `logging.shutdown()` because otherwise the log file is locked by Python and the Python Kernel needs to be stopped to make modifications (e.g. re-moving) to the log file."
   ]
  },
  {
   "cell_type": "code",
   "execution_count": null,
   "metadata": {},
   "outputs": [],
   "source": [
    "import logging\n",
    "\n",
    "logging.basicConfig(filename=\"my-logfile.log\", format=\"%(asctime)s - %(message)s\", filemode=\"w\", level=logging.DEBUG)\n",
    "logging.getLogger().addHandler(logging.StreamHandler())\n",
    "logging.debug(\"This message is logged to the file.\")\n",
    "logging.info(\"Less severe information is also logged to the file.\")\n",
    "logging.warning(\"Warning messages are logged, too.\")\n",
    "\n",
    "a = \"text\"\n",
    "\n",
    "try:\n",
    "    logging.info(str(a**2))\n",
    "except TypeError:\n",
    "    logging.error(\"The variable is not numeric.\")\n",
    "\n",
    "# stop logging\n",
    "logging.shutdown()"
   ]
  },
  {
   "cell_type": "markdown",
   "metadata": {},
   "source": [
    "And this is how `my-logfile.log` looks like:"
   ]
  },
  {
   "cell_type": "markdown",
   "metadata": {},
   "source": [
    "```\n",
    "2050-00-00 18:51:46,657 - This message is logged to the file.\n",
    "2050-00-00 18:51:46,666 - Less severe information is also logged to the file.\n",
    "2050-00-00 18:51:46,667 - Warning messages are logged, too.\n",
    "2050-00-00 18:51:46,669 - The variable is not numeric.\n",
    "```"
   ]
  },
  {
   "cell_type": "markdown",
   "metadata": {},
   "source": [
    "Events can also be documented by instantiating a logger object with `logger = logging.getLogger(__name__)`. This favorable solution is recommended for advanced coding such as writing a new [(custom) Python library](https://hydro-informatics.com/jupyter/pypckg.html)) (read more in the [Python docs on advanced logging](https://docs.python.org/3/howto/logging.html#advanced-logging-tutorial)). An example script with a more sophisticated logger is provided with the [Logger script at the course repository](https://github.com/hydro-informatics/material-py-codes/raw/master/logging/Logger.py)."
   ]
  },
  {
   "cell_type": "markdown",
   "metadata": {},
   "source": [
    "## Debugging\n",
    "\n",
    "Once you wrote more or less complex code, the ultimate question is: *Will it run?* The disappointing answer is no (in most cases), but there is a remedy called *debugging*, which is the act of removing bugs (errors) from code. Still, large code blocks can be a nightmare for debugging and this section provides some principles to reduce the factor of scariness that debugging may involve.\n",
    "\n",
    "### Use Exceptions Precisely \n",
    "Embrace critical code blocks precisely with `try` - `except` keywords and possible errors. This will help later to identify possible error origins.\n",
    "\n",
    "> Document self-written error messages in `except` statements from the beginning on (e.g., in a markdown document) and establish a developer [wiki](hhttps://hydro-informatics.com/documentation/documentation.html#wikis) including possible error sources and remedy descriptions.\n",
    "\n",
    "### Use Descriptive Variable Names\n",
    "Give variables, functions, and other objects descriptive and meaningful names. Abbreviations will always be necessary, but those should be descriptive (e.g., use acronyms). For variables and functions, use small letters only. For classes use CamelCase.\n",
    "\n",
    "### Deal with Errors\n",
    "If an error message is raised, **read the error message thoroughly** and several times to **understand the origin** of the error. Error messages often indicate the particular script and the line number where the error was raised. In the case that the error is not an apparent result of misused data types or any of the above error messages (e.g., an error raised within an external module/package), use your favorite search engine to troubleshoot the error.\n",
    "\n",
    "### Verify Output\n",
    "The fact that code runs does not inherently imply that the result (output) is the desired output. Therefore, run the code with input parameters that yield existing output from another source (e.g. manual calculation) and verify that the code-produced output corresponds to the existing (desired) output.\n",
    "\n",
    "### Code with a Structured Approach\n",
    "Think about the code structure before starting with punching in a bunch of code blocks and storing them in some Python files. Structural and/or behavior diagrams aid in developing a sophisticated code framework. The developers of the Unified Modeling Language (UML) provide solid guidelines for developing structure and behavior [UML diagrams](https://en.wikipedia.org/wiki/Unified_Modeling_Language#Diagrams) in software engineering.\n",
    "\n",
    "> Take a sheet of paper and a pencil before you start to engineer code and sketch how the code will produce the desired output.\n",
    "\n",
    "\n",
    "### Soft Alternatives\n",
    "\n",
    "Explain your problem to a friend or just speak it out loud: Rephrasing and trying to explain a problem to another person (even if it is just an imaginary person or group of people) often represents a troubleshot itself.\n",
    "\n",
    "Take a walk, sleep on the problem, or do other things with low brain occupation. While you are dealing with other things, your brain continues to think about the problem (Wikipedia even devoted a page to this so-called process of [*incubation*](https://en.wikipedia.org/wiki/Incubation_(psychology)))."
   ]
  },
  {
   "cell_type": "code",
   "execution_count": null,
   "metadata": {},
   "outputs": [],
   "source": []
  }
 ],
 "metadata": {
  "kernelspec": {
   "display_name": "Python 3 (ipykernel)",
   "language": "python",
   "name": "python3"
  },
  "language_info": {
   "codemirror_mode": {
    "name": "ipython",
    "version": 3
   },
   "file_extension": ".py",
   "mimetype": "text/x-python",
   "name": "python",
   "nbconvert_exporter": "python",
   "pygments_lexer": "ipython3",
   "version": "3.9.7"
  }
 },
 "nbformat": 4,
 "nbformat_minor": 4
}
