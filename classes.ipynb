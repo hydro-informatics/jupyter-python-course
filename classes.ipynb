{
 "cells": [
  {
   "cell_type": "markdown",
   "metadata": {},
   "source": [
    "(ooc)=\n",
    "# Object Orientation and Classes\n",
    "\n",
    "Leverage the power of Python by writing new classes. For interactive reading and executing code blocks [![Binder](https://mybinder.org/badge_logo.svg)](https://mybinder.org/v2/gh/hydro-informatics/hydro-informatics.github.io/main?filepath=jupyter) and find *classes.ipynb* or {ref}`install-python` locally along with {ref}`jupyter`.\n",
    "\n",
    "## The Class of Classes\n",
    "\n",
    "*Python* is an inherently object-oriented language and makes the deployment of classes and objects extremely easy. Let's start with essential definitions.\n",
    "\n",
    "### What is Object-Oriented Programming (OOP)?\n",
    "\n",
    "Object-Oriented Programming (OOP) is a programming paradigm that aligns the architecture of software with reality. Object orientation starts with the design of software, where a structured model is established. The structured model contains information about objects and their abstractions. The development and implementation of object-oriented software requires a structured way of thinking and the conceptual understanding of classes, inheritance, polymorphism and encapsulation.\n",
    "\n",
    "\n",
    "### Objects and Classes\n",
    "In computer language, an **object** is an instance that contains data in the shape of fields (called *attributes* or *properties*) and code in the shape of features (*functions* or *methods*). The features of an object enable access (read) and manipulation of its data fields. Objects have a concept of `self` regarding their attributes, methods and data fields. `self` internally references attributes, properties or methods belonging to an object.\n",
    "\n",
    "In *Python*, an object is an instance of a class. Thus, a **class** represents a blueprint for many similar objects with the same attributes and methods. A class does not use system memory and only its instance (i.e., objects) will use memory.\n",
    "\n",
    "![img](https://raw.githubusercontent.com/sschwindt/hydroinformatics/main/docs/img/classes_objects.png)\n",
    "\n",
    "\n",
    "The simplest form of a class in *Python* only includes some statements, and it is highly recommended to add an `__init__` statement where class variables are defined. We will come back to the `__init__` statement later in the section on *magic* methods. The following example shows one of the simplest classes with an `__init__` method. Note the usage of `self` in the class, which becomes `object_name.attribute` for instances of the class."
   ]
  },
  {
   "cell_type": "code",
   "execution_count": 1,
   "metadata": {},
   "outputs": [
    {
     "name": "stdout",
     "output_type": "stream",
     "text": [
      "vanilla, chocolate, bread, lemon\n",
      "['vanilla', 'chocolate', 'bread', 'lemon']\n"
     ]
    }
   ],
   "source": [
    "class IceCream:\n",
    "    def __init__(self, *args, **kwargs):\n",
    "        self.flavors=[\"vanilla\", \"chocolate\", \"bread\"]\n",
    "    \n",
    "    def add_flavor(self, flavor):\n",
    "        self.flavors.append(flavor)\n",
    "        \n",
    "    def print_flavors(self):\n",
    "        print(\", \".join(self.flavors))\n",
    "\n",
    "# create an instance of IceCream and use the print_flavors method\n",
    "some_scoops = IceCream()\n",
    "some_scoops.add_flavor(\"lemon\")\n",
    "\n",
    "# the following statements have similar effects\n",
    "some_scoops.print_flavors()\n",
    "print(some_scoops.flavors)"
   ]
  },
  {
   "cell_type": "markdown",
   "metadata": {},
   "source": [
    "### Inheritance\n",
    "The *Cambridge Dictionary* defines inheritance (biology) as *\"particular characteristics received from parents through genes\"*. Similarly, inheritance in OOP describes the hierarchical relationship between classes with *is-a-type-of* relationships. For example, a class `Salmon` may inherit from a class `Fish`. In this case, `Fish` is the parent class (or super-class) and `Salmon` is the child class (or sub-class), where `Fish` might define attributes like `preferred_flow_depth` or `preferred_flow_velocity` and fuzzification methods to describe other habitat preferences. Such a class inheritance could look like this:"
   ]
  },
  {
   "cell_type": "code",
   "execution_count": 2,
   "metadata": {},
   "outputs": [
    {
     "name": "stdout",
     "output_type": "stream",
     "text": [
      "The species Salmo salar prefers 0.4m deep and 0.5m/s fast flowing waters.\n",
      "The species Oncorhynchus tshawytscha prefers 0.6m deep and 0.8m/s fast flowing waters.\n"
     ]
    }
   ],
   "source": [
    "# define the parent class Fish\n",
    "class Fish:\n",
    "    def __init__(self, *args, **kwargs):\n",
    "        self.preferred_flow_depth = float()\n",
    "        self.preferred_flow_velocity = float()\n",
    "        self.species = \"\"\n",
    "        self.xy_position = tuple()\n",
    "        \n",
    "    def print_habitat(self):\n",
    "        print(\"The species {0} prefers {1}m deep and {2}m/s fast flowing waters.\".format(self.species, str(self.preferred_flow_depth), str(self.preferred_flow_velocity)))\n",
    "        \n",
    "    def swim_to_position(self, new_position=()):\n",
    "        self.xy_position = new_position\n",
    "\n",
    "\n",
    "# define the child class Salmon, which inherits (is-a-type-of) from Fish\n",
    "class Salmon(Fish):\n",
    "    def __init__(self, species, *args, **kwargs):\n",
    "        Fish.__init__(self)\n",
    "        self.family = \"salmonidae\"\n",
    "        self.species = species\n",
    "        \n",
    "    def habitat_function(self, depth, velocity):\n",
    "        self.preferred_flow_depth = depth\n",
    "        self.preferred_flow_velocity = velocity\n",
    "\n",
    "\n",
    "atlantic_salmon = Salmon(\"Salmo salar\")\n",
    "atlantic_salmon.habitat_function(depth=0.4, velocity=0.5)\n",
    "atlantic_salmon.print_habitat()\n",
    "\n",
    "pacific_salmon = Salmon(\"Oncorhynchus tshawytscha\")\n",
    "pacific_salmon.habitat_function(depth=0.6, velocity=0.8)\n",
    "pacific_salmon.print_habitat()"
   ]
  },
  {
   "cell_type": "markdown",
   "metadata": {},
   "source": [
    "```{tip}\n",
    "To make initial attributes of the parent class (`Fish`) directly accessible, use `ParentClass.__init__(self)` in the `__init__` method of the child class.\n",
    "```"
   ]
  },
  {
   "cell_type": "markdown",
   "metadata": {},
   "source": [
    "(polymorphism)=\n",
    "### Polymorphism\n",
    "In computer science, polymorphism refers to the ability of presenting the same programming interface for different basic structures. Admittedly, a definition cannot be much more abstract. So it is sufficient to focus here only on the meaning of polymorphism relevant in *Python* and that is when child classes have methods of the same name as the parent class. For example, polymorphism in *Python* is when we re-define the `swim_to_position` function of the above show `Fish` parent class in the `Salmon` child class.\n",
    "\n",
    "### Encapsulation (Public and Non-public Attributes)\n",
    "The concept of encapsulation combines data and functions to manipulate data, whereby both (data and functions) are protected against external interference and manipulation. Encapsulation is also the baseline of [data hiding](https://en.wikipedia.org/wiki/Information_hiding) in computer science, which segregates design decisions in software regarding objects that are likely to change. Here, the most important aspect of encapsulation is the differentiation between `private` and `public` class variables. \n",
    "\n",
    "`private` attributes cannot be modified from outside (i.e., they are protected and cannot be changed for an instance of a class). In *Python*, there are no inherently `private` variables and this is why *Python* docs talk about `non-public` attributes (i.e., `_single_leading_underscore` *def*s in a class) rather than `private` attributes. While using a single underscore is rather good practice without technical support, we can use `__double_leading_underscore` attributes to emulate private behavior with a mechanism called *name mangling*. Read more about variable definition styles in the [style guide](pystyle.html#object-styles).\n",
    "\n",
    "`public` attributes can be modified externally (i.e., different values can be assigned to `public` attributes of different instances of a class).\n",
    "\n",
    "In the above example of the `Salmon` class, we use a public variable `self.family`. However, the family attribute of the `Salmon` class is an attribute that should not be modifiable. A similar behavior would be desirable for an `self.aggregate_state = 'frozen'` of the `IceCream` class. So let's define another child of the `Fish` class with a non-public `__family` attribute. The `__family` attribute is not directly accessible for instances of the new child class `Carp`. Still, we want the `Carp` class to have a `family` attribute and we want to be able to print its value. This is why we need a special method `def family(self)`, which has an `@property` decorator (recall [decorators on the functions page](pyfun.html#wrappers)). The below example features another special method `def family(self, value)` that is embraced with a `@property.setter` decorator that enables re-defining the non-public `__family` property (even though this is logically nonsense here because we do not want to enable renaming the `__family` property).\n"
   ]
  },
  {
   "cell_type": "code",
   "execution_count": 3,
   "metadata": {},
   "outputs": [
    {
     "name": "stdout",
     "output_type": "stream",
     "text": [
      "cyprinidae\n",
      "__family is not directly accessible.\n",
      "family set to 'lamnidae'\n"
     ]
    }
   ],
   "source": [
    "class Carp(Fish):\n",
    "    def __init__(self, species, *args, **kwargs):\n",
    "        Fish.__init__(self)\n",
    "        self.__family = \"cyprinidae\"\n",
    "        self.species = species\n",
    "        \n",
    "    @property\n",
    "    def family(self):\n",
    "        return self.__family\n",
    "    \n",
    "    @family.setter\n",
    "    def family(self, value):\n",
    "        self.__family = value\n",
    "        print(\"family set to \\'%s\\'\" % self.__family)\n",
    "        \n",
    "        \n",
    "european_carp = Carp(\"Cyprinus carpio carpio\")\n",
    "print(european_carp.family)\n",
    "\n",
    "try:\n",
    "    print(european_carp.__family)\n",
    "except AttributeError:\n",
    "    print(\"__family is not directly accessible.\")\n",
    "\n",
    "# re-definition of __family through @family.setter method\n",
    "european_carp.family=\"lamnidae\""
   ]
  },
  {
   "cell_type": "markdown",
   "metadata": {},
   "source": [
    "(dec)=\n",
    "## Decorators\n",
    "\n",
    "In the last example, we have seen the implementation of the `@property` decorator, which tweaks a method into a non-callable attribute (property), and the `@attribute.setter` decorator to re-define a non-public variable. \n",
    "\n",
    "```{tip}\n",
    "What are decorators and wrappers again? If you are hesitating to answer this question, refresh your memory on the [functions page](pyfun.html#wrappers).\n",
    "```\n",
    "\n",
    "Until now, we only know decorators as a nice way to simplify functions. However, decorators are an even more powerful tool in object-oriented programming of classes, where decorators can be used to wrap class methods similar to functions. Let's define another child of the `Fish` class explore the `@property` decorator with its `deleter`, `getter`, and `setter` methods."
   ]
  },
  {
   "cell_type": "code",
   "execution_count": 4,
   "metadata": {},
   "outputs": [
    {
     "name": "stdout",
     "output_type": "stream",
     "text": [
      "7.0\n",
      "6.5\n",
      "Error: You cannot print a nonexistent property.\n"
     ]
    }
   ],
   "source": [
    "class Bullhead(Fish):\n",
    "    def __init__(self, species, *args, **kwargs):\n",
    "        Fish.__init__(self)\n",
    "        self.__family = \"cottidae\"\n",
    "        self.species = species\n",
    "        self.__length = 7.0\n",
    "        \n",
    "    @property\n",
    "    def length(self):\n",
    "        return self.__length\n",
    "    \n",
    "    @length.setter\n",
    "    def length(self, value):\n",
    "        try:\n",
    "            self.__length = float(value)\n",
    "        except ValueError:\n",
    "            print(\"Error: Value is not a real number.\")\n",
    "            \n",
    "    @length.deleter\n",
    "    def length(self):\n",
    "        del self.__length\n",
    "        \n",
    "european_bullhead = Bullhead(\"Cottus gobio\")\n",
    "\n",
    "# make use of @property.getter, which directly results from the @property-embraced def length method\n",
    "print(european_bullhead.length)\n",
    "\n",
    "# make use of @property.setter method\n",
    "european_bullhead.length = 6.5\n",
    "print(european_bullhead.length)\n",
    "\n",
    "# make use of @property.delete method\n",
    "del european_bullhead.length\n",
    "try:\n",
    "    print(european_bullhead.length)\n",
    "except AttributeError:\n",
    "    print(\"Error: You cannot print a nonexistent property.\")"
   ]
  },
  {
   "cell_type": "markdown",
   "metadata": {},
   "source": [
    "(magic)=\n",
    "## Overloading and Magic Methods\n",
    "\n",
    "The above examples introduced already the special, or magic, method `__init__`. We have already seen that `__init__` is nothing magical itself and there are many more of such predefined methods in *Python*. Before we get to *magic* methods, it is important to understand the concept of overloading in *Python*. So did you already wonder why the same operator can have different effects depending on the data type?\n",
    "\n",
    "For example, the `+` operator concatenates *strings*, but sums up numeric data types:"
   ]
  },
  {
   "cell_type": "code",
   "execution_count": 5,
   "metadata": {},
   "outputs": [
    {
     "name": "stdout",
     "output_type": "stream",
     "text": [
      "+ operator applied to strings: vanillacream\n",
      "+ operator applied to integers: 80\n"
     ]
    }
   ],
   "source": [
    "a_string = \"vanilla\"\n",
    "b_string = \"cream\"\n",
    "print(\"+ operator applied to strings: \" + str(a_string + b_string))\n",
    "\n",
    "a_number = 50\n",
    "b_number = 30\n",
    "print(\"+ operator applied to integers: \" + str(a_number + b_number))"
   ]
  },
  {
   "cell_type": "markdown",
   "metadata": {},
   "source": [
    "This behavior is called operator (or function) overloading in *Python* and overloading is possible because of pre-defined names of *magic methods* in *Python*. Now, we are ready to get to *magic* methods.\n",
    "\n",
    "Magic methods are one of the key elements that make *Python* easy and clear to use. Because of their declaration using double underscores (`__this_is_magic__`), magic methods are also called *dunder* (**d**ouble **under**score) methods. Magic methods are special methods with fixed names and their *magic* name is because they do not need to be directly invoked. Behind the scenes, *Python* constantly uses *magic* methods, for example when a new instance of a class is assigned: When you write `var = MyClass()`, *Python* automatically calls `MyClass`'es `__init__()` and `__new__()` *magic* methods. Magic methods also apply to any operator or (augmented) assignment. For example, the `+` binary operator makes *Python* look for the magic method `__add__`. Thus, when we type `a + b`, and both variables are instances of `MyClass`, *Python* will look for the `__add__` method of `MyClass` in order to apply `a.__add__(b)`. If *Python* cannot find the `__add__` method in `MyClass`, it returns a `TypeError: unsupported operand`.  \n",
    "\n",
    "The following sections list some documented magic methods for use in classes and packages in tabular format. The tables provide the most common magic methods and more documented magic objects or attributes exist. \n",
    "\n",
    "### Operator (binary) and assignment methods\n",
    "\n",
    "For any new class that we want to be able to deal with an operator (e.g., to enable summing up objects with `result = object1 + object2`), we need to implements (overload) the following methods.\n",
    "\n",
    "|  Operator    |  Method                                        |  | Assignment   |  Method                                         |\n",
    "|--------------|------------------------------------------------|--|--------------|-------------------------------------------------|\n",
    "|  `+`         |  `object.__add__(self, *args, **kwargs)`       |  |  `+=`        |  `object.__iadd__(self, *args, **kwargs)`       |\n",
    "|  `-`         |  `object.__sub__(self, *args, **kwargs)`       |  |  `-=`        |  `object.__isub__(self, *args, **kwargs)`       |\n",
    "|  `*`         |  `object.__mul__(self, *args, **kwargs)`       |  |  `*=`        |  `object.__imul__(self, *args, **kwargs)`       |\n",
    "|  `//`        |  `object.__floordiv__(self, *args, **kwargs)`  |  |  `/=`        |  `object.__idiv__(self, *args, **kwargs)`       |\n",
    "|  `/`         |  `object.__truediv__(self, *args, **kwargs)`   |  |  `//=`       |  `object.__ifloordiv__(self, *args, **kwargs)`  |\n",
    "|  `%`         |  `object.__mod__(self, *args, **kwargs)`       |  |  `%=`        |  `object.__imod__(self, *args, **kwargs)`       |\n",
    "|  `**`        |  `object.__pow__(self, *args, **kwargs)`       |  |  `**=`       |  `object.__ipow__(self, *args, **kwargs)`       |\n",
    "|  `<<`        |  `object.__lshift__(self, *args, **kwargs)`    |  |  `<<=`       |  `object.__ilshift__(self, *args, **kwargs)`    |\n",
    "|  `>>`        |  `object.__rshift__(self, *args, **kwargs)`    |  |  `>>=`       |  `object.__irshift__(self, *args, **kwargs)`    |\n",
    "|  `&`         |  `object.__and__(self, *args, **kwargs)`       |  |  `&=`        |  `object.__iand__(self, *args, **kwargs)`       |\n",
    "|  `^`         |  `object.__xor__(self, *args, **kwargs)`       |  |  `^=`        |  `object.__ixor__(self, *args, **kwargs)`       |\n",
    "|  `|`         |  `object.__or__(self, *args, **kwargs)`        |  |  `|=`        |  `object.__ior__(self, *args, **kwargs)`        |\n",
    "\n",
    "\n",
    "### Operator (unary) and Comparator Methods\n",
    "\n",
    "Also unary or comparative operators can be defined in classes. Unary operators deal with only one input in contrast to the above listed binary operators. Unary operators is what we typically use to increment or decrement variables with for example `++x` or `--x`. In addition, comparative operators (comparators) involve magic methods, such as `__ne__`, as synonym for **n**ot **e**qual.\n",
    "\n",
    "|  Operator     |  Method                      |  | Comparator   |  Method                                  |\n",
    "|---------------|------------------------------|--|--------------|------------------------------------------|\n",
    "|  `-`          |  `object.__neg__(self)`      |  |  `<`         |  `object.__lt__(self, *args, **kwargs)`  |\n",
    "|  `+`          |  `object.__pos__(self)`      |  |  `<=`        |  `object.__le__(self, *args, **kwargs)`  |\n",
    "|  `abs()`      |  `object.__abs__(self)`      |  |  `==`        |  `object.__eq__(self, *args, **kwargs)`  |\n",
    "|  `~`          |  `object.__invert__(self)`   |  |  `!=`        |  `object.__ne__(self, *args, **kwargs)`  |\n",
    "|  `complex()`  |  `object.__complex__(self)`  |  |  `>=`        |  `object.__ge__(self, *args, **kwargs)`  |\n",
    "|  `int()`      |  `object.__int__(self)`      |  |  `>`         |  `object.__gt__(self, *args, **kwargs)`  |\n",
    "|  `long()`     |  `object.__long__(self)`     |  |              |                                          |\n",
    "|  `float()`    |  `object.__float__(self)`    |  |              |                                          |\n",
    "\n",
    "\n",
    "A rather old (*Python* 2-based), but comprehensive and inclusive summary of magic methods is provided by [Rafe Kettler](https://rszalski.github.io/magicmethods/).\n",
    "\n",
    "Still, you may wonder how does a class look like that is capable of using for example the `+` operator with an `__add__` method? Let's define another child of the `Fish` class to build a swarm:"
   ]
  },
  {
   "cell_type": "code",
   "execution_count": 6,
   "metadata": {},
   "outputs": [
    {
     "name": "stdout",
     "output_type": "stream",
     "text": [
      "2\n",
      "20\n"
     ]
    }
   ],
   "source": [
    "class Mackerel(Fish):\n",
    "    def __init__(self, species, *args, **kwargs):\n",
    "        Fish.__init__(self)\n",
    "        self.__family = \"scombridae\"\n",
    "        self.species = species\n",
    "        self.count = 1\n",
    "        \n",
    "    def __add__(self, value):\n",
    "        self.count += value\n",
    "        return self.count\n",
    "    \n",
    "    def __mul__(self, multiplier):\n",
    "        self.count *= multiplier\n",
    "        return self.count\n",
    "        \n",
    "atlantic_mackerel = Mackerel(\"Scomber scombrus\")\n",
    "print(atlantic_mackerel + 1)\n",
    "print(atlantic_mackerel * 10)"
   ]
  },
  {
   "cell_type": "markdown",
   "metadata": {},
   "source": [
    "(template)=\n",
    "## Custom *Python* Class Template\n",
    "\n",
    "This section features a couple of examples with options for implementing public and non-public properties and customizations of *magic* methods to enable the use of operators such as `+` or `<=` with custom classes. So there are many options in writing custom classes and all custom classes should at least incorporate the following methods:\n",
    "\n",
    "* `__init__(self, [...)` is the class initializer, which is called when an instance of the class is created. More precisely, it is called along with the `__new__(cls, [...)` method, which is rarely used (read more at [python.org](https://docs.python.org/3/reference/datamodel.html?highlight=__new__%20method#object.__new__)). The initializer gets the arguments passed with which the object was called. For example when `var = MyClass(1, 'vanilla' )`, the `__init__(self, [...)` method gets `1` and `'vanilla'`.\n",
    "* `__call__(self, [...)` enables to call a class instance directly, for example `var('cherry')` (corresponds to `var.__call__('cherry')`) may be used to change from `'vanilla'` to `'cherry'`.\n",
    "\n",
    "As a result, a robust class skeleton to start with looks like this:"
   ]
  },
  {
   "cell_type": "code",
   "execution_count": 7,
   "metadata": {},
   "outputs": [],
   "source": [
    "class NewClass:\n",
    "    def __init__(self, *args, **kwargs):\n",
    "        # initialize any class variable here (all self.attributes should be here)\n",
    "        pass\n",
    "    \n",
    "    def methods1_n(self, *args, **kwargs):\n",
    "        # place class methods between the __init__ and the __call__ methods\n",
    "        pass\n",
    "    \n",
    "    def __call__(self, *args, **kwargs):\n",
    "        # example prints class structure information to console\n",
    "        print(\"Class Info: <type> = NewClass (%s)\" % os.path.dirname(__file__))\n",
    "        print(dir(self))"
   ]
  },
  {
   "cell_type": "markdown",
   "metadata": {},
   "source": [
    "Understanding the power and structure of classes and object orientation takes time and requires practicing. The next pages provide some more examples of classes to get more familiar with the concept."
   ]
  },
  {
   "cell_type": "markdown",
   "metadata": {},
   "source": [
    "```{admonition} Exercise\n",
    "Get more familiar with object orientation in the [Sediment transport (1D)](../exercises/ex-sediment) exercise.\n",
    "```"
   ]
  },
  {
   "cell_type": "code",
   "execution_count": null,
   "metadata": {},
   "outputs": [],
   "source": []
  }
 ],
 "metadata": {
  "kernelspec": {
   "display_name": "Python 3",
   "language": "python",
   "name": "python3"
  },
  "language_info": {
   "codemirror_mode": {
    "name": "ipython",
    "version": 3
   },
   "file_extension": ".py",
   "mimetype": "text/x-python",
   "name": "python",
   "nbconvert_exporter": "python",
   "pygments_lexer": "ipython3",
   "version": "3.8.5"
  }
 },
 "nbformat": 4,
 "nbformat_minor": 4
}
