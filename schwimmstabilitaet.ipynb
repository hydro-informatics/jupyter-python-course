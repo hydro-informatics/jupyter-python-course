{
 "cells": [
  {
   "cell_type": "markdown",
   "id": "6b41c6d9-afee-4996-a11f-ca08af819652",
   "metadata": {},
   "source": [
    "## Freibord und Eintauchtiefe\n",
    "\n",
    "Parameterdefinitionen:"
   ]
  },
  {
   "cell_type": "code",
   "execution_count": null,
   "id": "7e09cad9-6a78-4b55-b7b4-3b680dd146ab",
   "metadata": {},
   "outputs": [],
   "source": [
    "rho_k =  870. # kg / m3 - Holzdicht\n",
    "rho_f = 1000. # kg / m3 - Wasserdichte\n",
    "g = 9.81      # N / kg - Erdbeschleunigung\n",
    "b_x = 1.5     # m - Kastenbreite\n",
    "b_y = 2.0     # m - Kastenlänge\n",
    "h = 1.5       # m - Kastenhöhe\n",
    "w = 0.01      # m - Wandstärke"
   ]
  },
  {
   "cell_type": "markdown",
   "id": "dcefa855-6881-4183-936c-59a45d55ff1f",
   "metadata": {},
   "source": [
    "Berechnung der Gewichtskraft $ F_g = \\rho_k \\cdot g \\cdot V_k = \\rho_k \\cdot g \\cdot \\left[b_x \\cdot b_y \\cdot h - \\left(h - w\\right) \\cdot  \\left(b_x - 2 w\\right) \\cdot \\left(b_y - 2 w\\right)\\right] $ :"
   ]
  },
  {
   "cell_type": "code",
   "execution_count": null,
   "id": "42164256-5d1f-4c31-93e4-874f83d91196",
   "metadata": {},
   "outputs": [],
   "source": [
    "V_k = b_x * b_y * h - (b_x - 2 * w) * (b_y - 2 * w) * (h - w)\n",
    "F_g = V_k * rho_k * g\n",
    "print(f'Koerpervolumen V_k = {V_k:.2f} m3\\nGewichtskraft: {F_g:.2f} N')"
   ]
  },
  {
   "cell_type": "markdown",
   "id": "48472d94-ccfb-4673-bf76-6f3dfc8bd0b9",
   "metadata": {},
   "source": [
    "Berechnung des Verdrängungsvolumens $ V_v = F_g / \\left(\\rho_f \\cdot g \\right) $ :"
   ]
  },
  {
   "cell_type": "code",
   "execution_count": null,
   "id": "e730cd82-a035-4202-ad38-1ede4a01621f",
   "metadata": {},
   "outputs": [],
   "source": [
    "V_v = F_g / (rho_f * g)\n",
    "print(f'Verdraengungsvolumen: {V_v:.2f} m3')"
   ]
  },
  {
   "cell_type": "markdown",
   "id": "0e9df301-c10f-44e9-8467-b334d6ec7908",
   "metadata": {},
   "source": [
    "Berechnung der Eintauchtiefe $ d = V_v / \\left(b_x \\cdot b_y\\right) $ und des Freibords $ f = h - d $ : "
   ]
  },
  {
   "cell_type": "code",
   "execution_count": null,
   "id": "00011360-2116-4310-821e-8108a0e3b385",
   "metadata": {},
   "outputs": [],
   "source": [
    "d = V_v / b_x * b_y\n",
    "f = h - d\n",
    "print(f'Eintauchtiefe d = {d:.2f} m\\nFreibord f = {f:.2f} m')\n",
    "if f >= 0:\n",
    "    print(\"Schwimmender Körper\")\n",
    "if f < 0:\n",
    "    print(\"Der Körper geht unter.\")"
   ]
  },
  {
   "cell_type": "markdown",
   "id": "f1da7784-2015-4f0a-8543-f208f936245c",
   "metadata": {},
   "source": [
    "## Schwimmstabilität"
   ]
  },
  {
   "cell_type": "markdown",
   "id": "349b637e-1697-48c1-9995-a8299a9af2d0",
   "metadata": {},
   "source": [
    "### Flächenträgheitsmoment\n",
    "\n",
    "Berechnung des Flächenträgheitsmoments $I_0 = \\frac{b_{\\text{x}} ^3 \\cdot b_{\\text{y}} }{12}$ bezüglich 0:"
   ]
  },
  {
   "cell_type": "code",
   "execution_count": null,
   "id": "01a8db85-f5eb-41eb-aecf-c0a2caea1918",
   "metadata": {},
   "outputs": [],
   "source": [
    "I_0 = b_x**3 * b_y / 12\n",
    "print(f'Flaechentraegheitsmoment I_0 = {I_0:.2f} m4')"
   ]
  },
  {
   "cell_type": "markdown",
   "id": "94bc8e44-e809-4b74-abc3-7c47c5921f57",
   "metadata": {},
   "source": [
    "### Höhenlagen\n",
    "\n",
    "Höhe $h_g$ des Gewichtsschwerpunkts:"
   ]
  },
  {
   "cell_type": "code",
   "execution_count": null,
   "id": "52411f6c-1c76-4019-b9b5-c3c70c182048",
   "metadata": {},
   "outputs": [],
   "source": [
    "V_k_lat_waende = 2 * (b_y - 2 * w) * (h - w) * w \n",
    "V_k_front_back = 2 * b_x * (h - w) * w\n",
    "V_k_boden = b_x * b_y * w\n",
    "h_g = ((V_k_lat_waende + V_k_front_back) * (w + h / 2) + V_k_boden * w / 2) / V_k\n",
    "print(f'h_g = {h_g:.2f} m')"
   ]
  },
  {
   "cell_type": "markdown",
   "id": "0301dcf5-c1cd-4772-9e98-8aa7b849555a",
   "metadata": {},
   "source": [
    "Höhe $h_v$ des Verdrängungsschwerpunkts:"
   ]
  },
  {
   "cell_type": "code",
   "execution_count": null,
   "id": "78e9325b-66ef-4360-91fb-9a3a08bc13f7",
   "metadata": {},
   "outputs": [],
   "source": [
    "h_v = d / 2\n",
    "print(f'Hoehe des Verdraengungsschwerpunkts h_v = {h_v:.2f} m')"
   ]
  },
  {
   "cell_type": "markdown",
   "id": "237a6591-c662-45ce-a66f-94d1126d1089",
   "metadata": {},
   "source": [
    "Höhendifferenz $h_{gv}$ zwischen Gewichtsschwerpunkt und Verdrängungsschwerpunkt:"
   ]
  },
  {
   "cell_type": "code",
   "execution_count": null,
   "id": "97f7a0ef-ce8d-4381-bd03-f73a658f89dc",
   "metadata": {},
   "outputs": [],
   "source": [
    "h_gv = h_g - h_v\n",
    "print(f'Hoehendifferenz h_gv = {h_gv:.2f} m')"
   ]
  },
  {
   "cell_type": "markdown",
   "id": "00ddd378-f465-4d0a-bf64-8da9322ab89d",
   "metadata": {},
   "source": [
    "Höhe $h_M$ des Metazentrums und Schwimmstabilität:"
   ]
  },
  {
   "cell_type": "code",
   "execution_count": null,
   "id": "570712fb-f724-49bf-a008-2729f1ccbd86",
   "metadata": {},
   "outputs": [],
   "source": [
    "h_M = I_0 / V_v - h_gv\n",
    "print(f'Hoehe des Metazentrums h_M = {h_M:.2f} m')\n",
    "\n",
    "if h_M > 0:\n",
    "    print(\"Stabile Lage.\")\n",
    "elif h_M < 0:\n",
    "    print(\"Labile Lage.\")\n",
    "else:\n",
    "    print(\"Indifferente Lage.\")"
   ]
  }
 ],
 "metadata": {
  "kernelspec": {
   "display_name": "Python 3 (ipykernel)",
   "language": "python",
   "name": "python3"
  },
  "language_info": {
   "codemirror_mode": {
    "name": "ipython",
    "version": 3
   },
   "file_extension": ".py",
   "mimetype": "text/x-python",
   "name": "python",
   "nbconvert_exporter": "python",
   "pygments_lexer": "ipython3",
   "version": "3.10.12"
  }
 },
 "nbformat": 4,
 "nbformat_minor": 5
}
