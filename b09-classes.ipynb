{
 "cells": [
  {
   "cell_type": "markdown",
   "metadata": {},
   "source": [
    "# Object Orientation and Classes\n",
    "\n",
    "Leverage the power of Python by writing new classes. \n",
    "\n",
    "## The Class of Classes\n",
    "\n",
    "Python is an inherently object-oriented language and makes the deployment of classes and objects extremely easy. This chapter introduces the concept of Python classes, starting with essential definitions.\n",
    "\n",
    "### What is Object-Oriented Programming (OOP)?\n",
    "\n",
    "Object-Oriented Programming (OOP) is a programming paradigm that aligns the architecture of software with reality. Object orientation starts with the design of software, where a structured model is established. The structured model contains information about objects and their abstractions. The development and implementation of object-oriented software require a structured way of thinking and a conceptual understanding of classes, inheritance, polymorphism, and encapsulation.\n",
    "\n",
    "\n",
    "### Objects and Classes\n",
    "\n",
    "In computer language, an **object** is an instance that contains data in the form of fields (called **attributes** or **properties**) and code in the form of features (**functions** or **methods**). The features of an object enable access (read) and manipulation of its data fields. Objects have a concept of `self` regarding their attributes, methods, and data fields. `self` internally references attributes, properties, or methods belonging to an object.\n",
    "\n",
    "In Python, an object is an instance of a class. Thus, a **class** represents a blueprint for many similar objects with the same attributes and methods. A class does not use the system memory and only its instance (i.e., objects) will use memory.\n",
    "\n",
    "![img](https://raw.githubusercontent.com/hydro-informatics/media/main/img/classes-objects.png)\n",
    "\n",
    "The simplest form of a class in Python includes a few fundamental statements only, and it is highly recommended to add an `__init__` statement in which class variables are defined. We will come back to the `__init__` statement later in the section on *magic* methods. The following example shows one of the simplest possible class structures with an `__init__` method. Note the usage of `self` in the class, which becomes `object_name.attribute` for instances of the `IceCream` class."
   ]
  },
  {
   "cell_type": "code",
   "execution_count": null,
   "metadata": {},
   "outputs": [],
   "source": [
    "class IceCream:\n",
    "    def __init__(self, *args, **kwargs):\n",
    "        self.flavors=[\"vanilla\", \"chocolate\", \"bread\"]\n",
    "    \n",
    "    def add_flavor(self, flavor):\n",
    "        self.flavors.append(flavor)\n",
    "        \n",
    "    def print_flavors(self):\n",
    "        print(\", \".join(self.flavors))\n",
    "\n",
    "# create an instance of IceCream and use the print_flavors method\n",
    "some_scoops = IceCream()\n",
    "some_scoops.add_flavor(\"lemon\")\n",
    "\n",
    "# the following statements have similar effects\n",
    "some_scoops.print_flavors()\n",
    "print(some_scoops.flavors)"
   ]
  },
  {
   "cell_type": "markdown",
   "metadata": {},
   "source": [
    "### Inheritance\n",
    "The [Cambridge Dictionary](https://dictionary.cambridge.org/) defines inheritance (biology) as *\"particular characteristics received from parents through genes\"*. Similarly, inheritance in OOP describes the hierarchical relationship between classes with *is-a-type-of* relationships. For instance, a class called `Salmon` may inherit from a class called `Fish`. In this case, `Fish` is the parent class (or super-class) and `Salmon` is the child class (or sub-class), where `Fish` might define attributes like `preferred_flow_depth` or `preferred_flow_velocity` with fuzzification methods describing other habitat preferences. Such class inheritance could look like this:"
   ]
  },
  {
   "cell_type": "code",
   "execution_count": null,
   "metadata": {},
   "outputs": [],
   "source": [
    "# define the parent class Fish\n",
    "class Fish:\n",
    "    def __init__(self, *args, **kwargs):\n",
    "        self.preferred_flow_depth = float()\n",
    "        self.preferred_flow_velocity = float()\n",
    "        self.species = \"\"\n",
    "        self.xy_position = tuple()\n",
    "        \n",
    "    def print_habitat(self):\n",
    "        print(\"The species {0} prefers {1}m deep and {2}m/s fast flowing waters.\".format(self.species, str(self.preferred_flow_depth), str(self.preferred_flow_velocity)))\n",
    "        \n",
    "    def swim_to_position(self, new_position=()):\n",
    "        self.xy_position = new_position\n",
    "\n",
    "\n",
    "# define the child class Salmon, which inherits (is-a-type-of) from Fish\n",
    "class Salmon(Fish):\n",
    "    def __init__(self, species, *args, **kwargs):\n",
    "        Fish.__init__(self)\n",
    "        self.family = \"salmonidae\"\n",
    "        self.species = species\n",
    "        \n",
    "    def habitat_function(self, depth, velocity):\n",
    "        self.preferred_flow_depth = depth\n",
    "        self.preferred_flow_velocity = velocity\n",
    "\n",
    "\n",
    "atlantic_salmon = Salmon(\"Salmo salar\")\n",
    "atlantic_salmon.habitat_function(depth=0.4, velocity=0.5)\n",
    "atlantic_salmon.print_habitat()\n",
    "\n",
    "pacific_salmon = Salmon(\"Oncorhynchus tshawytscha\")\n",
    "pacific_salmon.habitat_function(depth=0.6, velocity=0.8)\n",
    "pacific_salmon.print_habitat()"
   ]
  },
  {
   "cell_type": "markdown",
   "metadata": {},
   "source": [
    "> To make initial attributes of the parent class (`Fish`) directly accessible, use `ParentClass.__init__(self)` in the `__init__` method of the child class."
   ]
  },
  {
   "cell_type": "markdown",
   "metadata": {},
   "source": [
    "### Polymorphism\n",
    "In computer science, polymorphism refers to the ability to present the same programming interface for different basic structures. Admittedly, a definition cannot be much more abstract. It is sufficient to focus here only on the meaning of polymorphism relevant to Python and that is when child classes have methods of the same name as the parent class. For instance, polymorphism in Python is when we re-define the `swim_to_position` function of the above-shown `Fish` parent class in the `Salmon` child class.\n",
    "\n",
    "### Encapsulation (Public and Non-public Attributes)\n",
    "The concept of encapsulation combines data and functions to manipulate data, whereby both (data and functions) are protected against external interference and manipulation. Encapsulation is also the baseline of [data hiding](https://en.wikipedia.org/wiki/Information_hiding) in computer science, which segregates design decisions in software regarding objects that are likely to change.\n",
    "\n",
    "One of the most important aspects of encapsulation is the differentiation between `private` and `public` class variables. A `private` attribute cannot be modified from outside (i.e., it is protected and cannot be changed for an instance of a class). In Python, there are no inherently `private` variables and this is why the Python documentation talks about `non-public` attributes (i.e., `_single_leading_underscore` *def*s in a class) rather than `private` attributes. While using a single underscore variable name is rather a good practice without technical support, we can use `__double_leading_underscore` attributes to emulate private behavior with a mechanism called *name mangling*. Read more about variable definition styles in the [Python style guide](https://hydro-informatics.com/python-basics/pystyle.html#object-styles). `public` attributes can be modified externally (i.e., different values can be assigned to `public` attributes of different instances of a class).\n",
    "\n",
    "In the above example of the `Salmon` class, we use a public variable called `self.family`. However, the family attribute of the `Salmon` class is an attribute that should not be modifiable. Similar behavior would be desirable for an attribute called `self.aggregate_state = \"frozen\"` of the `IceCream` class. To familiarize with the concept, the following code block defines another child of the `Fish` class with a non-public `__family` attribute. The `__family` attribute is not directly accessible for instances of the new child class called `Carp`. Still, we want the `Carp` class to have a `family` attribute and we want to be able to print its value. This is why we need a special method `def family(self)`, which has the same name as the protected attribute and an `@property` decorator. The below example features an additional special method called `def family(self, value)` that is embraced with a `@property.setter` decorator and that enables re-defining the non-public `__family` property (even though this is logically nonsense because we do not want to enable renaming the `__family` property).\n",
    "\n",
    "> **What are decorators and wrappers again?** If you are hesitating to answer this question, refresh your memory in the chapter on [functions](https://hydro-informatics.com/python-basics/pyfun.html#wrappers)."
   ]
  },
  {
   "cell_type": "code",
   "execution_count": null,
   "metadata": {},
   "outputs": [],
   "source": [
    "class Carp(Fish):\n",
    "    def __init__(self, species, *args, **kwargs):\n",
    "        Fish.__init__(self)\n",
    "        self.__family = \"cyprinidae\"\n",
    "        self.species = species\n",
    "        \n",
    "    @property\n",
    "    def family(self):\n",
    "        return self.__family\n",
    "    \n",
    "    @family.setter\n",
    "    def family(self, value):\n",
    "        self.__family = value\n",
    "        print(\"family set to \\'%s\\'\" % self.__family)\n",
    "        \n",
    "        \n",
    "european_carp = Carp(\"Cyprinus carpio carpio\")\n",
    "print(european_carp.family)\n",
    "\n",
    "try:\n",
    "    print(european_carp.__family)\n",
    "except AttributeError:\n",
    "    print(\"__family is not directly accessible.\")\n",
    "\n",
    "# re-definition of __family through @family.setter method\n",
    "european_carp.family=\"lamnidae\""
   ]
  },
  {
   "cell_type": "markdown",
   "metadata": {},
   "source": [
    "## Decorators\n",
    "\n",
    "In the last example, we have seen the implementation of the `@property` decorator, which tweaks a method into a non-callable attribute (property), and the `@attribute.setter` decorator to re-define a non-public variable. \n",
    "\n",
    "Until here, we only know decorators as an efficient way to simplify functions. However, decorators are an even more powerful tool in object-oriented programming of classes, in which decorators can be used to wrap class methods similar to functions. Let's define another child of the `Fish` class to explore the `@property` decorator with its `deleter`, `getter`, and `setter` methods."
   ]
  },
  {
   "cell_type": "code",
   "execution_count": null,
   "metadata": {},
   "outputs": [],
   "source": [
    "class Bullhead(Fish):\n",
    "    def __init__(self, species, *args, **kwargs):\n",
    "        Fish.__init__(self)\n",
    "        self.__family = \"cottidae\"\n",
    "        self.species = species\n",
    "        self.__length = 7.0\n",
    "        \n",
    "    @property\n",
    "    def length(self):\n",
    "        return self.__length\n",
    "    \n",
    "    @length.setter\n",
    "    def length(self, value):\n",
    "        try:\n",
    "            self.__length = float(value)\n",
    "        except ValueError:\n",
    "            print(\"Error: Value is not a real number.\")\n",
    "            \n",
    "    @length.deleter\n",
    "    def length(self):\n",
    "        del self.__length\n",
    "        \n",
    "european_bullhead = Bullhead(\"Cottus gobio\")\n",
    "\n",
    "# make use of @property.getter, which directly results from the @property-embraced def length method\n",
    "print(european_bullhead.length)\n",
    "\n",
    "# make use of @property.setter method\n",
    "european_bullhead.length = 6.5\n",
    "print(european_bullhead.length)\n",
    "\n",
    "# make use of @property.delete method\n",
    "del european_bullhead.length\n",
    "try:\n",
    "    print(european_bullhead.length)\n",
    "except AttributeError:\n",
    "    print(\"Error: You cannot print a nonexistent property.\")"
   ]
  },
  {
   "cell_type": "markdown",
   "metadata": {},
   "source": [
    "## Overloading and Magic Methods\n",
    "\n",
    "The above examples introduced a special or **magic** method called `__init__`. We have already seen that `__init__` is nothing magical itself and there are many more of such predefined methods in Python. Before we get to magic methods, it is important to understand the concept of overloading in Python. Did you already wonder why the same operator can have different effects depending on the data type? For instance, the `+` operator concatenates *strings*, but sums up numeric data types:"
   ]
  },
  {
   "cell_type": "code",
   "execution_count": null,
   "metadata": {},
   "outputs": [],
   "source": [
    "a_string = \"vanilla\"\n",
    "b_string = \"cream\"\n",
    "print(\"+ operator applied to strings: \" + str(a_string + b_string))\n",
    "\n",
    "a_number = 50\n",
    "b_number = 30\n",
    "print(\"+ operator applied to integers: \" + str(a_number + b_number))"
   ]
  },
  {
   "cell_type": "markdown",
   "metadata": {},
   "source": [
    "This behavior is called **operator (or function) overloading** in Python and overloading is possible because of pre-defined names of magic methods in Python. Now, we are ready to dive into the *magic* methods pool.\n",
    "\n",
    "Magic methods are one of the key elements that make Python easy and clear to use. Because of their declaration using double underscores (`__this_is_magic__`), magic methods are also called **dunder** (**d**ouble **under**score) methods. Magic methods are special methods with fixed names and their *magic* name is because they do not need to be directly invoked. Behind the scenes, Python constantly uses magic methods, for example, when a new instance of a class is assigned: When you write `var = MyClass()`, Python automatically calls `MyClass`'es `__init__()` and `__new__()` magic methods. Magic methods also apply to any operator or (augmented) assignment. For example, the `+` binary operator makes Python look for the magic method `__add__`. Thus, when we type `a + b`, and both variables are instances of `MyClass`, Python will look for the `__add__` method of `MyClass` in order to apply `a.__add__(b)`. If Python cannot find the `__add__` method in `MyClass`, it returns `TypeError: unsupported operand`.  \n",
    "\n",
    "The following sections list some documented magic methods for use in classes and packages. These are only some of the most common magic methods and more documented magic objects or attributes exist. \n",
    "\n",
    "### Operator (binary) and assignment methods\n",
    "\n",
    "For any new class that we want to be able to deal with an operator (e.g., to enable summing up objects with `result = object1 + object2`), we need to implement (overload) the following methods.\n",
    "\n",
    "|  Operator    |  Method                                        |  | Assignment   |  Method                                         |\n",
    "|--------------|------------------------------------------------|--|--------------|-------------------------------------------------|\n",
    "|  `+`         |  `object.__add__(self, *args, **kwargs)`       |  |  `+=`        |  `object.__iadd__(self, *args, **kwargs)`       |\n",
    "|  `-`         |  `object.__sub__(self, *args, **kwargs)`       |  |  `-=`        |  `object.__isub__(self, *args, **kwargs)`       |\n",
    "|  `*`         |  `object.__mul__(self, *args, **kwargs)`       |  |  `*=`        |  `object.__imul__(self, *args, **kwargs)`       |\n",
    "|  `//`        |  `object.__floordiv__(self, *args, **kwargs)`  |  |  `/=`        |  `object.__idiv__(self, *args, **kwargs)`       |\n",
    "|  `/`         |  `object.__truediv__(self, *args, **kwargs)`   |  |  `//=`       |  `object.__ifloordiv__(self, *args, **kwargs)`  |\n",
    "|  `%`         |  `object.__mod__(self, *args, **kwargs)`       |  |  `%=`        |  `object.__imod__(self, *args, **kwargs)`       |\n",
    "|  `**`        |  `object.__pow__(self, *args, **kwargs)`       |  |  `**=`       |  `object.__ipow__(self, *args, **kwargs)`       |\n",
    "|  `<<`        |  `object.__lshift__(self, *args, **kwargs)`    |  |  `<<=`       |  `object.__ilshift__(self, *args, **kwargs)`    |\n",
    "|  `>>`        |  `object.__rshift__(self, *args, **kwargs)`    |  |  `>>=`       |  `object.__irshift__(self, *args, **kwargs)`    |\n",
    "|  `&`         |  `object.__and__(self, *args, **kwargs)`       |  |  `&=`        |  `object.__iand__(self, *args, **kwargs)`       |\n",
    "|  `^`         |  `object.__xor__(self, *args, **kwargs)`       |  |  `^=`        |  `object.__ixor__(self, *args, **kwargs)`       |\n",
    "|  `\\|`         |  `object.__or__(self, *args, **kwargs)`       |  |  `\\|=`       |  `object.__ior__(self, *args, **kwargs)`        |\n",
    "\n",
    "\n",
    "### Operator (unary) and Comparator Methods\n",
    "\n",
    "Also unary or comparative operators can be defined or overloaded. Unary operators deal with only one input in contrast to the above-listed binary operators. A unary operator is what we typically use to increment or decrement variables with, for example, `++x` or `--x`. In addition, comparative operators (comparators) involve magic methods, such as `__ne__`, as a synonym for **n**ot **e**qual.\n",
    "\n",
    "|  Operator     |  Method                      |  | Comparator   |  Method                                  |\n",
    "|---------------|------------------------------|--|--------------|------------------------------------------|\n",
    "|  `-`          |  `object.__neg__(self)`      |  |  `<`         |  `object.__lt__(self, *args, **kwargs)`  |\n",
    "|  `+`          |  `object.__pos__(self)`      |  |  `<=`        |  `object.__le__(self, *args, **kwargs)`  |\n",
    "|  `abs()`      |  `object.__abs__(self)`      |  |  `==`        |  `object.__eq__(self, *args, **kwargs)`  |\n",
    "|  `~`          |  `object.__invert__(self)`   |  |  `!=`        |  `object.__ne__(self, *args, **kwargs)`  |\n",
    "|  `complex()`  |  `object.__complex__(self)`  |  |  `>=`        |  `object.__ge__(self, *args, **kwargs)`  |\n",
    "|  `int()`      |  `object.__int__(self)`      |  |  `>`         |  `object.__gt__(self, *args, **kwargs)`  |\n",
    "|  `long()`     |  `object.__long__(self)`     |  |              |                                          |\n",
    "|  `float()`    |  `object.__float__(self)`    |  |              |                                          |\n",
    "\n",
    "\n",
    "A comprehensive and inclusive summary of magic methods is provided in the [Python docs](https://docs.python.org/3/reference/datamodel.html#emulating-numeric-types).\n",
    "\n",
    "Still, you may wonder how, in practice, does a class look like that is capable of using, for example, the `+` operator with an `__add__` method? To this end, let's define another child of the `Fish` class to build a swarm:"
   ]
  },
  {
   "cell_type": "code",
   "execution_count": null,
   "metadata": {},
   "outputs": [],
   "source": [
    "class Mackerel(Fish):\n",
    "    def __init__(self, species, *args, **kwargs):\n",
    "        Fish.__init__(self)\n",
    "        self.__family = \"scombridae\"\n",
    "        self.species = species\n",
    "        self.count = 1\n",
    "        \n",
    "    def __add__(self, value):\n",
    "        self.count += value\n",
    "        return self.count\n",
    "    \n",
    "    def __mul__(self, multiplier):\n",
    "        self.count *= multiplier\n",
    "        return self.count\n",
    "        \n",
    "atlantic_mackerel = Mackerel(\"Scomber scombrus\")\n",
    "print(atlantic_mackerel + 1)\n",
    "print(atlantic_mackerel * 10)"
   ]
  },
  {
   "cell_type": "markdown",
   "metadata": {},
   "source": [
    "## Custom Python Class Template\n",
    "\n",
    "This section features a template for a custom Python3 class. The template can be extended with public and non-public properties, and customizations of magic methods to enable the use of operators such as `+` or `<=`. Ultimately, there are many options for writing a custom class, but all custom classes should at least incorporate the following methods:\n",
    "\n",
    "* `__init__(self, [...)` is the (magic) class initializer, which is called when an instance of the class is created. More precisely, it is called along with the `__new__(cls, [...)` method, which, in contrast, is rarely used (read more at [python.org](https://docs.python.org/3/reference/datamodel.html?highlight=__new__%20method#object.__new__)). The initializer gets the arguments passed with which the object was called. For example, when `var = MyClass(1, 'vanilla' )`, the `__init__(self, [...)` method receives `1` and `'vanilla'`.\n",
    "* `__call__(self, [...)` enables to call a class instance directly. For example, `var('cherry')` (corresponds to `var.__call__('cherry')`) may be used to change from `'vanilla'` to `'cherry'`.\n",
    "\n",
    "Thus, a robust class template skeleton looks like this:"
   ]
  },
  {
   "cell_type": "code",
   "execution_count": null,
   "metadata": {},
   "outputs": [],
   "source": [
    "class NewClass:\n",
    "    def __init__(self, *args, **kwargs):\n",
    "        # initialize any class variable here (all self.attributes should be here)\n",
    "        pass\n",
    "    \n",
    "    def methods1_n(self, *args, **kwargs):\n",
    "        # place class methods between the __init__ and the __call__ methods\n",
    "        pass\n",
    "    \n",
    "    def __call__(self, *args, **kwargs):\n",
    "        # example prints class structure information to console\n",
    "        print(\"Class Info: <type> = NewClass (%s)\" % os.path.dirname(__file__))\n",
    "        print(dir(self))"
   ]
  },
  {
   "cell_type": "markdown",
   "metadata": {},
   "source": [
    "Understanding the power and structure of classes and object orientation takes time and requires practice. To this end, the chapters on [Graphical User Interfaces](https://hydro-informatics.com/jupyter/gui.html) and [Geospatial Python](https://hydro-informatics.com/geopy/geo-python.html) provide more examples of classes to familiarize with the concepts."
   ]
  },
  {
   "cell_type": "markdown",
   "metadata": {},
   "source": [
    "> **Exercise**: Familiarize with object orientation in the [Sediment transport (1d) exercise](https://hydro-informatics.com/exercises/ex-sediment)."
   ]
  }
 ],
 "metadata": {
  "kernelspec": {
   "display_name": "Python 3 (ipykernel)",
   "language": "python",
   "name": "python3"
  },
  "language_info": {
   "codemirror_mode": {
    "name": "ipython",
    "version": 3
   },
   "file_extension": ".py",
   "mimetype": "text/x-python",
   "name": "python",
   "nbconvert_exporter": "python",
   "pygments_lexer": "ipython3",
   "version": "3.8.10"
  }
 },
 "nbformat": 4,
 "nbformat_minor": 4
}
