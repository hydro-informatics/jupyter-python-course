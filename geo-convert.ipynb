{
 "cells": [
  {
   "cell_type": "markdown",
   "metadata": {},
   "source": [
    "(py-conversion)=\n",
    "# Raster to Vector Conversion and Vice Versa\n",
    "\n",
    "Geospatial dataset conversion with *Python*. For interactive reading and executing code blocks [![Binder](https://mybinder.org/badge_logo.svg)](https://mybinder.org/v2/gh/hydro-informatics/hydro-informatics.github.io/main?filepath=jupyter) and find *geo-conversion.ipynb* or {ref}`install-python` locally along with {ref}`jupyter`.\n",
    "\n",
    "The goal of this section is to guide to an understanding of conversions from raster and to vector data formats and vice versa.\n",
    "\n",
    "```{admonition} Requirements\n",
    "* Make sure to understand [gridded raster data](geo-raster) and [vector data](geo-shp) data handling before reading this section.\n",
    "\n",
    "* Recall the [`open_raster`](geo-raster.html#open) and [`create_shp`](geo-shp.html#create) functions.\n",
    "\n",
    "* Read about the creation of the [*least cost path*](geo-raster.html#leastcost) raster dataset.\n",
    "```\n",
    "\n",
    "```{admonition} Tips\n",
    ":class: tip\n",
    "1. The core functions used in this e-book are introduced with the raster and vector data handling explanations and additionally implemented in the {{ ft_url }} package.\n",
    "\n",
    "2. Download sample raster datasets from [*River Architect*](https://github.com/RiverArchitect/SampleData/archive/master.zip). This page uses *GeoTIFF* raster data located in [`RiverArchitect/SampleData/01_Conditions/2100_sample/`](https://github.com/RiverArchitect/SampleData/tree/master/01_Conditions/2100_sample).\n",
    "```\n",
    "\n",
    "## Vectorize\n",
    "\n",
    "(raster2line)=\n",
    "### Raster to Line\n",
    "\n",
    "In this section, we convert the [*least cost path*](geo-raster.html#leastcost) raster dataset (`least_cost.tif`) into a (poly) line shapefile. For this purpose we first write a function called `offset2coords`, which represents the inverse of the [`coords2offset`](geo-raster.html#lc-fun) function, to convert x/y offset (in pixel numbers) to coordinates of a geospatial dataset's geo-transformation:"
   ]
  },
  {
   "cell_type": "code",
   "execution_count": 1,
   "metadata": {},
   "outputs": [],
   "source": [
    "def offset2coords(geo_transform, offset_x, offset_y):\n",
    "    # get origin and pixel dimensions from geo_transform (osgeo.gdal.Dataset.GetGeoTransform() object)\n",
    "    origin_x = geo_transform[0]\n",
    "    origin_y = geo_transform[3]\n",
    "    pixel_width = geo_transform[1]\n",
    "    pixel_height = geo_transform[5]\n",
    "    \n",
    "    # calculate x and y coordinates\n",
    "    coord_x = origin_x + pixel_width * (offset_x + 0.5)\n",
    "    coord_y = origin_y + pixel_height * (offset_y + 0.5)\n",
    "\n",
    "    # return x and y coordinates\n",
    "    return coord_x, coord_y"
   ]
  },
  {
   "cell_type": "markdown",
   "metadata": {},
   "source": [
    "```{note}\n",
    "The offset is added 0.5 pixels in both x and y directions to meet the center of the pixel rather than the top left pixel corner.\n",
    "```"
   ]
  },
  {
   "cell_type": "markdown",
   "metadata": {},
   "source": [
    "Next we can write the core function to convert a raster dataset to a line shapefile. This function named `raster2line`:\n",
    "1. Opens a `raster`, its band as `array` and `geo_transform` (geo-transformation) defined with the `raster_file_name` argument and using the [`open_raster`](geo-raster.html#open) function.\n",
    "1. Calculates the maximum distance (`max_distance`) between two pixels that are considered *connect-able*, based on the hypothesis that the pixel height *&Delta;y* and width *&Delta;x* are the same:\n",
    "    ![img](https://raw.githubusercontent.com/sschwindt/hydroinformatics/main/docs/img/pixel2line-width-illu.png)\n",
    "1. Gets the `trajectory` of pixels that have a user parameter-defined `pixel_value` (e.g., `1` to trace 1-pixels in the binary `least_cost.tif`) and throws an error if the trajectory is empty (i.e., `np.count_nonzero(trajectory) is 0`). \n",
    "1. Uses the above define `offset2coords` function to append point coordinates to a `points` list.\n",
    "1. Creates a `multi_line` object (instance of `ogr.Geometry(ogr.wkbMultiLineString)`), which represents the (void) final least cost path.\n",
    "1. Iterates through all possible combinations of points (excluding combinations of points with themselves) with [`itertools.combinations(iterable, r=number-of-combinations=2`](https://docs.python.org/3/library/itertools.html)).\n",
    "\n",
    "    * Points are stored in the `points` list.\n",
    "    * `point1` and `point2` are required to get the distance between pairs of points.\n",
    "    * If the `distance` between the point is smaller than `max_distance`, the function creates a line object from the two points and appends it to the `multi_line`.\n",
    "\n",
    "1. Creates a new shapefile (named `out_shp_fn`) using the [`create_shp`](geo-shp.html#create) function (with integrated shapefile name length verification as per the [`geo_utils`](https://github.com/hydro-informatics/geo-utils) package).\n",
    "1. Adds the `multi_line` object as new feature to the shapefile (follows the descriptions on the [shapefile page](geo-shp.html#line-create)).\n",
    "1. Creates a `.prj` projection file (recall descriptions in the [shapefile](geo-shp.html#prj-shp) section) using the spatial reference system of the input `raster` with the [`get_srs`](geo-raster.html#lc-fun) function.\n",
    "\n",
    "The `raster2line` function is also implemented in the [`flusstools.geotools`](https://flusstools.readthedocs.io/en/latest/geotools.html#module-flusstools.geotools.geotools) script."
   ]
  },
  {
   "cell_type": "code",
   "execution_count": 2,
   "metadata": {},
   "outputs": [],
   "source": [
    "def raster2line(raster_file_name, out_shp_fn, pixel_value):\n",
    "    \"\"\"\n",
    "    Convert a raster to a line shapefile, where pixel_value determines line start and end points\n",
    "    :param raster_file_name: STR of input raster file name, including directory; must end on \".tif\"\n",
    "    :param out_shp_fn: STR of target shapefile name, including directory; must end on \".shp\"\n",
    "    :param pixel_value: INT/FLOAT of a pixel value\n",
    "    :return: None (writes new shapefile).\n",
    "    \"\"\"\n",
    "\n",
    "    # calculate max. distance between points\n",
    "    # ensures correct neighbourhoods for start and end pts of lines\n",
    "    raster, array, geo_transform = raster2array(raster_file_name)\n",
    "    pixel_width = geo_transform[1]\n",
    "    max_distance = np.ceil(np.sqrt(2 * pixel_width**2))\n",
    "\n",
    "    # extract pixels with the user-defined pixel value from the raster array\n",
    "    trajectory = np.where(array == pixel_value)\n",
    "    if np.count_nonzero(trajectory) is 0:\n",
    "        print(\"ERROR: The defined pixel_value (%s) does not occur in the raster band.\" % str(pixel_value))\n",
    "        return None\n",
    "\n",
    "    # convert pixel offset to coordinates and append to nested list of points\n",
    "    points = []\n",
    "    count = 0\n",
    "    for offset_y in trajectory[0]:\n",
    "        offset_x = trajectory[1][count]\n",
    "        points.append(offset2coords(geo_transform, offset_x, offset_y))\n",
    "        count += 1\n",
    "\n",
    "    # create multiline (write points dictionary to line geometry (wkbMultiLineString)\n",
    "    multi_line = ogr.Geometry(ogr.wkbMultiLineString)\n",
    "    for i in itertools.combinations(points, 2):\n",
    "        point1 = ogr.Geometry(ogr.wkbPoint)\n",
    "        point1.AddPoint(i[0][0], i[0][1])\n",
    "        point2 = ogr.Geometry(ogr.wkbPoint)\n",
    "        point2.AddPoint(i[1][0], i[1][1])\n",
    "\n",
    "        distance = point1.Distance(point2)\n",
    "        if distance < max_distance:\n",
    "            line = ogr.Geometry(ogr.wkbLineString)\n",
    "            line.AddPoint(i[0][0], i[0][1])\n",
    "            line.AddPoint(i[1][0], i[1][1])\n",
    "            multi_line.AddGeometry(line)\n",
    "\n",
    "    # write multiline (wkbMultiLineString2shp) to shapefile\n",
    "    new_shp = create_shp(out_shp_fn, layer_name=\"raster_pts\", layer_type=\"line\")\n",
    "    lyr = new_shp.GetLayer()\n",
    "    feature_def = lyr.GetLayerDefn()\n",
    "    new_line_feat = ogr.Feature(feature_def)\n",
    "    new_line_feat.SetGeometry(multi_line)\n",
    "    lyr.CreateFeature(new_line_feat)\n",
    "\n",
    "    # create projection file\n",
    "    srs = get_srs(raster)\n",
    "    make_prj(out_shp_fn, int(srs.GetAuthorityCode(None)))\n",
    "    print(\"Success: Wrote %s\" % str(out_shp_fn))"
   ]
  },
  {
   "cell_type": "markdown",
   "metadata": {},
   "source": [
    "Now we can use the `raster2line` function to convert the least cost path from pixel (raster) format to line format:"
   ]
  },
  {
   "cell_type": "code",
   "execution_count": 3,
   "metadata": {},
   "outputs": [
    {
     "name": "stdout",
     "output_type": "stream",
     "text": [
      "Success: Wrote C:\\Users\\schwindt\\jupyter\\nb-lectures/geodata/river-architect/least_cost.shp\n"
     ]
    }
   ],
   "source": [
    "source_raster_fn = r\"\" +  os.path.abspath('') + \"/geodata/river-architect/least_cost.tif\"\n",
    "target_shp_fn = r\"\" + os.path.abspath('') + \"/geodata/river-architect/least_cost.shp\"\n",
    "pixel_value = 1\n",
    "raster2line(source_raster_fn, target_shp_fn, pixel_value)"
   ]
  },
  {
   "cell_type": "markdown",
   "metadata": {},
   "source": [
    "![img](https://raw.githubusercontent.com/sschwindt/hydroinformatics/main/docs/img/qgis-least-cost-line.png)"
   ]
  },
  {
   "cell_type": "markdown",
   "metadata": {},
   "source": [
    "```{admonition} Challenge\n",
    "There is a little error in the `least_cost` line. Can you find the error? What can be done to fix the error?\n",
    "```"
   ]
  },
  {
   "cell_type": "markdown",
   "metadata": {},
   "source": [
    "```{note}\n",
    "Network routing is the core specialty of the [`NetworkX` package (see *Open source libraries*)](geo-pckg.html#other). Read more about network analyses in [Michael Diener's *GitHub* pages](https://github.com/mdiener21/python-geospatial-analysis-cookbook/tree/master/ch08).\n",
    "```"
   ]
  },
  {
   "cell_type": "markdown",
   "metadata": {},
   "source": [
    "(raster2polygon)=\n",
    "### Raster to Polygon\n",
    "\n",
    "`gdal` comes with the powerful `Polygonize` functionality for the easy conversion of a raster dataset to a polygon shapefile. While `gdal.Polygonize` enables writing a simple `raster2polygon` function, it has a drawback, which is that it can only handle integer values and it merely randomly attributes `FID` values by default. Because the `FID` values are not meaningful, we can implement the following `float2int` function to preserve the original value range (uses the [`raster2array`](geo-raster.html#createarray) and [`create_raster`](geo-raster.html#create) functions explained in the raster section):"
   ]
  },
  {
   "cell_type": "code",
   "execution_count": 4,
   "metadata": {},
   "outputs": [],
   "source": [
    "def float2int(raster_file_name, band_number=1):\n",
    "    \"\"\"\n",
    "    :param raster_file_name: STR of target file name, including directory; must end on \".tif\"\n",
    "    :param band_number: INT of the raster band number to open (default: 1)\n",
    "    :output: new_raster_file_name (STR)\n",
    "    \"\"\"\n",
    "    # use raster2array function to get raster, np.array and the geo transformation\n",
    "    raster, array, geo_transform = raster2array(raster_file_name, band_number=band_number)\n",
    "    \n",
    "    # convert np.array to integers\n",
    "    try:\n",
    "        array = array.astype(int)\n",
    "    except ValueError:\n",
    "        print(\"ERROR: Invalid raster pixel values.\")\n",
    "        return raster_file_name\n",
    "    \n",
    "    # get spatial reference system\n",
    "    src_srs = get_srs(raster)\n",
    "    \n",
    "    # create integer raster    \n",
    "    new_name = raster_file_name.split(\".tif\")[0] + \"_int.tif\"\n",
    "    create_raster(new_name, array, epsg=int(src_srs.GetAuthorityCode(None)),\n",
    "                  rdtype=gdal.GDT_Int32, geo_info=geo_transform)\n",
    "    # return name of integer raster\n",
    "    return new_name"
   ]
  },
  {
   "cell_type": "markdown",
   "metadata": {},
   "source": [
    "The following `raster2polygon` function:\n",
    "1. Uses the `float2int` function to ensure that any raster `file_name` provided is converted to purely integer values.\n",
    "1. Creates a new shapefile (named `out_shp_fn`) using the [`create_shp`](geo-shp.html#create) function (with integrated shapefile name length verification as per the [`geo_utils`](https://github.com/hydro-informatics/geo-utils) package).\n",
    "1. Adds a new `ogr.OFTInteger` field (recall the [field creation](geo-shp.html#add-field)) in the shapefile section) named by the optional `field_name` input argument.\n",
    "1. Runs [`gdal.Polygonize`](https://gdal.org/api/gdal_alg.html#_CPPv414GDALPolygonize15GDALRasterBandH15GDALRasterBandH9OGRLayerHiPPc16GDALProgressFuncPv) with:\n",
    "\n",
    "    * `hSrcBand=raster_band`\n",
    "    * `hMaskBand=None` (optional raster band to define polygons)\n",
    "    * `hOutLayer=dst_layer`\n",
    "    * `iPixValField=0` (if no field was be added, set to -1 in order to create `FID` field; if more field added, set to 1, 2, ... )\n",
    "    * `papszOptions=[]` (no effect for `ESRI Shapefile` driver type)\n",
    "    * `callback=None` for not using the reporting algorithm (`GDALProgressFunc()`)\n",
    "\n",
    "1. Creates a `.prj` projection file (recall descriptions in the [shapefile section](geo-shp.html#prj-shp)) using the spatial reference system of the input `raster` with the [`get_srs`](geo-raster.html#lc-fun) function.   "
   ]
  },
  {
   "cell_type": "code",
   "execution_count": 5,
   "metadata": {},
   "outputs": [],
   "source": [
    "def raster2polygon(file_name, out_shp_fn, band_number=1, field_name=\"values\"):\n",
    "    \"\"\"\n",
    "    Convert a raster to polygon\n",
    "    :param file_name: STR of target file name, including directory; must end on \".tif\"\n",
    "    :param out_shp_fn: STR of a shapefile name (with directory e.g., \"C:/temp/poly.shp\")\n",
    "    :param band_number: INT of the raster band number to open (default: 1)\n",
    "    :param field_name: STR of the field where raster pixel values will be stored (default: \"values\")\n",
    "    :return: None\n",
    "    \"\"\"\n",
    "    # ensure that the input raster contains integer values only and open the input raster\n",
    "    file_name = float2int(file_name)\n",
    "    raster, raster_band = open_raster(file_name, band_number=band_number)\n",
    "\n",
    "    # create new shapefile with the create_shp function\n",
    "    new_shp = create_shp(out_shp_fn, layer_name=\"raster_data\", layer_type=\"polygon\")\n",
    "    dst_layer = new_shp.GetLayer()\n",
    "\n",
    "    # create new field to define values\n",
    "    new_field = ogr.FieldDefn(field_name, ogr.OFTInteger)\n",
    "    dst_layer.CreateField(new_field)\n",
    "\n",
    "    # Polygonize(band, hMaskBand[optional]=None, destination lyr, field ID, papszOptions=[], callback=None)\n",
    "    gdal.Polygonize(raster_band, None, dst_layer, 0, [], callback=None)\n",
    "\n",
    "    # create projection file\n",
    "    srs = get_srs(raster)\n",
    "    make_prj(out_shp_fn, int(srs.GetAuthorityCode(None)))\n",
    "    print(\"Success: Wrote %s\" % str(out_shp_fn))"
   ]
  },
  {
   "cell_type": "markdown",
   "metadata": {},
   "source": [
    "```{admonition} Tips\n",
    ":class: tip\n",
    "* `Polygonize` can also be run as a [terminal command](geo-raster.html#terminal) with [`gdal_polygonize`](https://gdal.org/programs/gdal_polygonize.html).\n",
    "* Both the `float2int` and the `raster2polygon` functions are also available in the [`geo_utils` package (*geo_utils/geo_tools.py*](https://github.com/hydro-informatics/geo-utils/blob/master/geo_utils/geo_tools.py)).\n",
    "```"
   ]
  },
  {
   "cell_type": "markdown",
   "metadata": {},
   "source": [
    "Now we can use the `raster2polygon` function to convert the flow depth raster for 1000 cfs (`h001000.cfs` from the [*River Architect* sample datasets](https://github.com/RiverArchitect/SampleData/tree/master/01_Conditions/2100_sample)) to a polygon shapefile:"
   ]
  },
  {
   "cell_type": "code",
   "execution_count": 6,
   "metadata": {},
   "outputs": [
    {
     "name": "stdout",
     "output_type": "stream",
     "text": [
      "Success: Wrote C:\\Users\\schwindt\\jupyter\\nb-lectures/geodata/river-architect/h_poly_cls.shp\n"
     ]
    }
   ],
   "source": [
    "src_raster = r\"\" +  os.path.abspath('') + \"/geodata/river-architect/h001000.tif\"\n",
    "tar_shp = r\"\" + os.path.abspath('') + \"/geodata/river-architect/h_poly_cls.shp\"\n",
    "raster2polygon(src_raster, tar_shp)"
   ]
  },
  {
   "cell_type": "markdown",
   "metadata": {},
   "source": [
    "![img](https://raw.githubusercontent.com/sschwindt/hydroinformatics/main/docs/img/qgis-h-polygonized.png)"
   ]
  },
  {
   "cell_type": "markdown",
   "metadata": {},
   "source": [
    "(shp2raster)=\n",
    "## Rasterize (Vector Shapefile to Raster) \n",
    "\n",
    "Similar to `gdal.Polygonize`, [`gdal.RasterizeLayer`](https://gdal.org/python/osgeo.gdal-module.html#RasterizeLayer) represents a powerful option to easily convert a shapefile into a raster. More precisely, a shapefile is not really converted but burned onto a raster. That means, values stored in a field of a shapefile feature are used (burned) as pixel values in a new raster. A little attention is required to ensure that the correct values and data types are used. So let's write a `rasterize` function that we can use robustly over and over again, avoiding potential headaches. The `rasterize` function:\n",
    "\n",
    "1. Open the provided input shapefile name and its layer.\n",
    "1. Reads the spatial extent of the layer.\n",
    "1. Derives the solution as a function of the spatial extent and a user-defined `pixel_size` (optional argument).\n",
    "1. Creates a new *GeoTIFF* raster using the\n",
    "    * user-defined `output_raster_file_name`,\n",
    "    * calculated x and y resolution, and\n",
    "    * `eType` (default is `gdal.GDT_Float32` - recall all data type options listed in the [raster section](geo-raster.html#etypes).\n",
    "1. Applies the geo-transformation defined by the source layer extents and the `pixel_size`.\n",
    "1. Creates one raster `band`, fills the `band` with the user-defined `no_data_value` (default is `-9999`), and sets the `no_data_value`.\n",
    "1. Sets the spatial reference system of the raster to the same as the source shapefile.\n",
    "1. Applies `gdal.RasterizeLayer` with \n",
    "    * `dataset=target_ds` (target raster dataset),\n",
    "    * `bands=[1]` (*list(integer)* - increase to defined more raster bands and assign other values, e.g., from other fields of the source shapefile),\n",
    "    * `layer=source_lyr` (layer with features to burn to the raster),\n",
    "    * `pfnTransformer=None` ([read more in the *gdal* docs](https://gdal.org/python/osgeo.gdal-module.html#RasterizeLayer)),\n",
    "    * `pTransformArg=None` ([read more in the *gdal* docs](https://gdal.org/python/osgeo.gdal-module.html#RasterizeLayer)),\n",
    "    * `burn_values=[0]` (a default value that is burned to the raster),\n",
    "    * `options=[\"ALL_TOUCHED=TRUE\"]` defines that all pixels touched by a polygon get the polygon's field value - if not set: only pixels that are entirely in the polygon get a value assigned,\n",
    "    * `options=[\"ATTRIBUTE=\" + str(kwargs.get(\"field_name\"))]` defines the field name with values to burn."
   ]
  },
  {
   "cell_type": "code",
   "execution_count": 18,
   "metadata": {},
   "outputs": [],
   "source": [
    "def rasterize(in_shp_file_name, out_raster_file_name, pixel_size=10, no_data_value=-9999,\n",
    "              rdtype=gdal.GDT_Float32, **kwargs):\n",
    "    \"\"\"\n",
    "    Converts any shapefile to a raster\n",
    "    :param in_shp_file_name: STR of a shapefile name (with directory e.g., \"C:/temp/poly.shp\")\n",
    "    :param out_raster_file_name: STR of target file name, including directory; must end on \".tif\"\n",
    "    :param pixel_size: INT of pixel size (default: 10)\n",
    "    :param no_data_value: Numeric (INT/FLOAT) for no-data pixels (default: -9999)\n",
    "    :param rdtype: gdal.GDALDataType raster data type - default=gdal.GDT_Float32 (32 bit floating point)\n",
    "    :kwarg field_name: name of the shapefile's field with values to burn to the raster\n",
    "    :return: produces the shapefile defined with in_shp_file_name\n",
    "    \"\"\"\n",
    "\n",
    "    # open data source\n",
    "    try:\n",
    "        source_ds = ogr.Open(in_shp_file_name)\n",
    "    except RuntimeError as e:\n",
    "        print(\"Error: Could not open %s.\" % str(in_shp_file_name))\n",
    "        return None\n",
    "    source_lyr = source_ds.GetLayer()\n",
    "\n",
    "    # read extent\n",
    "    x_min, x_max, y_min, y_max = source_lyr.GetExtent()\n",
    "\n",
    "    # get x and y resolution\n",
    "    x_res = int((x_max - x_min) / pixel_size)\n",
    "    y_res = int((y_max - y_min) / pixel_size)\n",
    "\n",
    "    # create destination data source (GeoTIff raster)\n",
    "    target_ds = gdal.GetDriverByName('GTiff').Create(out_raster_file_name, x_res, y_res, 1, eType=rdtype)\n",
    "    target_ds.SetGeoTransform((x_min, pixel_size, 0, y_max, 0, -pixel_size))\n",
    "    band = target_ds.GetRasterBand(1)\n",
    "    band.Fill(no_data_value)\n",
    "    band.SetNoDataValue(no_data_value)\n",
    "\n",
    "    # get spatial reference system and assign to raster\n",
    "    srs = get_srs(source_ds)\n",
    "    try:\n",
    "        srs.ImportFromEPSG(int(srs.GetAuthorityCode(None)))\n",
    "    except RuntimeError as e:\n",
    "        print(e)\n",
    "        return None\n",
    "    target_ds.SetProjection(srs.ExportToWkt())\n",
    "\n",
    "    # RasterizeLayer(Dataset dataset, int bands, Layer layer, pfnTransformer=None, pTransformArg=None,\n",
    "    # int burn_values=0, options=None, GDALProgressFunc callback=0, callback_data=None)\n",
    "    gdal.RasterizeLayer(target_ds, [1], source_lyr, None, None, burn_values=[0],\n",
    "                                options=[\"ALL_TOUCHED=TRUE\", \"ATTRIBUTE=\" + str(kwargs.get(\"field_name\"))])\n",
    "\n",
    "    # release raster band\n",
    "    band.FlushCache()"
   ]
  },
  {
   "cell_type": "markdown",
   "metadata": {},
   "source": [
    "```{tip} \n",
    "`Rasterize` can also be run as a [terminal command](geo-raster.html#terminal) with [`gdal_rasterize`](https://gdal.org/programs/gdal_rasterize.html).\n",
    "```"
   ]
  },
  {
   "cell_type": "markdown",
   "metadata": {},
   "source": [
    "Now we can use the `rasterize` function to convert the above polygonized flow depth polygon shapefile (`h_poly_cls.shp`) back to a raster (that is a little bit useless in practice, but an illustrative exercise). Pay attention to the data type, which is `gdal.GDT_Int32` and define the `field_name` correctly."
   ]
  },
  {
   "cell_type": "code",
   "execution_count": 19,
   "metadata": {},
   "outputs": [],
   "source": [
    "src_shp = r\"\" + os.path.abspath('') + \"/geodata/river-architect/h_poly_cls.shp\"\n",
    "tar_ras = r\"\" +  os.path.abspath('') + \"/geodata/river-architect/h_re_rastered.tif\"\n",
    "rasterize(src_shp, tar_ras, pixel_size=5, rdtype=gdal.GDT_Int32, field_name=\"values\")"
   ]
  },
  {
   "cell_type": "markdown",
   "metadata": {},
   "source": [
    "![img](https://raw.githubusercontent.com/sschwindt/hydroinformatics/main/docs/img/qgis-h-rasterized.png)"
   ]
  },
  {
   "cell_type": "markdown",
   "metadata": {},
   "source": [
    "```{admonition} Exercise\n",
    "Get more familiar with the conversion of rasters and shapefiles in the [geospatial ecohydraulics](../exercises/ex-geco) exercise.\n",
    "```"
   ]
  }
 ],
 "metadata": {
  "kernelspec": {
   "display_name": "Python 3",
   "language": "python",
   "name": "python3"
  },
  "language_info": {
   "codemirror_mode": {
    "name": "ipython",
    "version": 3
   },
   "file_extension": ".py",
   "mimetype": "text/x-python",
   "name": "python",
   "nbconvert_exporter": "python",
   "pygments_lexer": "ipython3",
   "version": "3.8.5"
  }
 },
 "nbformat": 4,
 "nbformat_minor": 4
}
